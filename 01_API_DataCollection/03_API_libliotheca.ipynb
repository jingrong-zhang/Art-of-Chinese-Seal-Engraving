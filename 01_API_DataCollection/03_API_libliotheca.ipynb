{
 "cells": [
  {
   "cell_type": "markdown",
   "metadata": {
    "tags": []
   },
   "source": [
    "## Chinese seals - libliotheca\n",
    "\n",
    "Data Collection & Format"
   ]
  },
  {
   "cell_type": "code",
   "execution_count": 1,
   "metadata": {},
   "outputs": [],
   "source": [
    "import pandas as pd\n",
    "import glob\n",
    "import numpy as np\n",
    "from dateutil import parser\n",
    "import time\n",
    "from tqdm import tqdm\n",
    "import urllib.request\n",
    "try: \n",
    "    import urllib2 as urllib \n",
    "except ImportError:\n",
    "    import urllib.request as urllib\n",
    "import json\n",
    "import sys\n",
    "from IPython.display import clear_output \n",
    "import requests"
   ]
  },
  {
   "cell_type": "markdown",
   "metadata": {
    "tags": []
   },
   "source": [
    "### 1. Save as .json"
   ]
  },
  {
   "cell_type": "code",
   "execution_count": 4,
   "metadata": {},
   "outputs": [],
   "source": [
    "for i in range(1,2):\n",
    "    apiKey = 'a879f07cec0311a7c25068cc3db7ad4c5617bfba'\n",
    "    pageth = i\n",
    "    pageSize = 200\n",
    "    url = str('https://data1.library.sh.cn/gj/webapi/libliotheca?Pageth={}&pageSize={}&key={}'.format(pageth,pageSize,apiKey))\n",
    "    data = urllib.urlopen(url).read().decode('utf-8')\n",
    "    data = json.loads(data)\n",
    "\n",
    "    with open('libliotheca_all.json', 'w') as f:\n",
    "        json.dump(data['data'], f)\n",
    "    f.close()"
   ]
  },
  {
   "cell_type": "markdown",
   "metadata": {},
   "source": [
    "#### Check unique"
   ]
  },
  {
   "cell_type": "code",
   "execution_count": 6,
   "metadata": {},
   "outputs": [
    {
     "data": {
      "text/plain": [
       "{'name': '鐵琴銅劍樓',\n",
       " 'description': '清代常熟藏書，自錢謙益絳雲樓、錢曾述古堂而後，首推瞿氏鐵琴銅劍樓。鐵琴銅劍樓爲清末四大藏書樓之一，後陸氏皕宋樓與丁氏八千卷樓先後散出，僅剩常熟瞿氏與聊城楊氏並峙，人稱南瞿北楊。中國私家藏書史上，世代相傳，歷史悠久者，除寧波天一閣外，當屬鐵琴銅劍樓。\\n鐵琴銅劍樓坐落於常熟賓湯門外十里之南塘古里村，初名「恬裕齋」，「恬裕」二字，取古書「引養引恬，垂裕後昆」之義，意即讓子孫後代也能享受這份恬靜安逸的生活，由瞿紹基所創立。紹基（1772—1836）字厚培，別字蔭棠。瞿氏祖上因經商致富，及紹基父進思好讀書，曾授「州同知」銜。紹基自幼力學工文，然屢試不第，僅以明經當了幾天陽湖縣訓導，旋即歸隱古里村，廣購四部之書，旁及金石。嘉慶道光間，恰值常熟城中陳氏稽瑞樓和張氏愛日精廬書先後散出，紹基又遴選其宋元善本爲世珍者，增置插架，由此奠定了瞿氏藏書的基礎。\\n紹基之子瞿鏞（1794—1846）字子雍，克承父志，搜奇羅異，不懈益勤。瞿鏞好金石文字，旁及鼎彝古印書畫，嘗得鐵琴一張、銅劍一把，因別稱其樓爲「鐵琴銅劍樓」。咸豐年間，長洲汪氏藝蕓書舍藏書散出，藝蕓書舍之藏源於黃丕烈士禮居，多宋元舊槧，其中精品多爲瞿鏞所得，餘歸楊氏海源閣。此處值得一辨的是，許多藏書史資料均言及恬裕齋因避清光緒載恬之諱而於同治末年（1874）改稱敦裕堂，而後又改名鐵琴銅劍樓，似有誤。瞿鏞另稱其樓爲鐵琴銅劍樓，有其詩集名《鐵琴銅劍樓詩草》和詞集名《鐵琴銅劍樓詞草》爲證，至於同治末年改名事，距瞿鏞謝世已近三十年，當與瞿鏞無關。\\n聚書難，守書亦不易。鐵琴銅劍樓傳至第三代主人瞿秉淵、瞿秉清手中時，正是太平天國崛起，社會動蕩時期，江南各藏書家多遭兵燹，甚至連范氏天一閣也未能幸免。戰火燒近常熟時，秉淵、秉清兄弟攜書遷徙，輾轉流離，歷盡艱辛，前後凡四年，而鐵琴銅劍樓之書始無恙。遷徙途中，兄弟倆聞有各家散出之異書，必不惜重價以充實庫藏。待亂後安然歸來，乃請江陰畫家吳灌英繪《虹月歸來圖》以志慶幸，張瑛爲之記，葉昌熾、翁同龢等名賢分別爲之題跋，可謂一時之盛事。\\n及至瞿啟甲，是爲第四代傳人。啟甲秉承父兄遺願，一如既往，謹守勿替。抗日戰爭時期，爲免日寇掠奪，啟甲早作防範，把全部善本運往上海，妥善安置，遂使日人無從下手，這和皕宋樓全部藏書賣給日本靜嘉堂再次形成鮮明對比。啟甲又將先人苦心經營數十年的《鐵琴銅劍樓藏書目録》悉加釐定，於光緒二十四年（1898）刊版行世；一九二二年，又取家藏宋金元刻本，擇其較爲罕見者一二頁，仿楊氏《留真譜》之意，影印爲《鐵琴銅劍樓宋金元本書影》。最難能可貴的是，啟甲一反舊時藏書家概不借閲的陋習，對踵門求閲者總是盡力提供種種方便，甚至還爲遠道而來的讀者提供膳食，遂使鐵琴銅劍樓名聲益廣。\\n歷經戰火洗劫，瞿氏舊住齋已燬，而藏書樓巍然獨存。樓爲四進相連的建築。其中第一、二兩進爲門屋、花廳，燬於抗日戰爭；第三、四進樓上爲藏書之所，三進樓下爲讀書之處，四進樓下收藏古物、石刻等。兩樓之書因瞿啓甲及時移藏滬寓，未遭劫火，今多歸北京圖書館。',\n",
       " 'uri': 'http://data.library.sh.cn/gj/entity/libliotheca/clsaz00zc5ukuk83'}"
      ]
     },
     "execution_count": 6,
     "metadata": {},
     "output_type": "execute_result"
    }
   ],
   "source": [
    "f = open('libliotheca_all.json')\n",
    "libliotheca_all = json.load(f)\n",
    "libliotheca_all[0]"
   ]
  },
  {
   "cell_type": "code",
   "execution_count": 9,
   "metadata": {},
   "outputs": [
    {
     "name": "stdout",
     "output_type": "stream",
     "text": [
      "sealOwner names: 54\n",
      "Repeated: 0\n"
     ]
    }
   ],
   "source": [
    "a_key = \"name\"\n",
    "list_of_values = [a_dict[a_key] for a_dict in libliotheca_all]\n",
    "print('sealOwner names:', len(list_of_values))\n",
    "# my_dict = {i:list_of_values.count(i) for i in list_of_values}\n",
    "import collections\n",
    "repeat = [item for item, count in collections.Counter(list_of_values).items() if count > 1]\n",
    "print('Repeated:', len(repeat))"
   ]
  },
  {
   "cell_type": "code",
   "execution_count": null,
   "metadata": {
    "deletable": false,
    "nbgrader": {
     "cell_type": "code",
     "checksum": "4d0d75abc13ab8deefd24ac7fe9a7b32",
     "grade": true,
     "grade_id": "cell-f778cee509e3a316",
     "locked": false,
     "points": 1,
     "schema_version": 3,
     "solution": true,
     "task": false
    }
   },
   "outputs": [],
   "source": []
  }
 ],
 "metadata": {
  "kernelspec": {
   "display_name": "ads",
   "language": "python",
   "name": "ads"
  },
  "language_info": {
   "codemirror_mode": {
    "name": "ipython",
    "version": 3
   },
   "file_extension": ".py",
   "mimetype": "text/x-python",
   "name": "python",
   "nbconvert_exporter": "python",
   "pygments_lexer": "ipython3",
   "version": "3.7.11"
  }
 },
 "nbformat": 4,
 "nbformat_minor": 4
}
