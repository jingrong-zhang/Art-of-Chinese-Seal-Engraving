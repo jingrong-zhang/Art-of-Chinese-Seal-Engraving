{
 "cells": [
  {
   "cell_type": "markdown",
   "metadata": {
    "tags": []
   },
   "source": [
    "## Chinese seals - sealOwner\n",
    "\n",
    "Data Collection & Format"
   ]
  },
  {
   "cell_type": "code",
   "execution_count": 1,
   "metadata": {},
   "outputs": [],
   "source": [
    "import pandas as pd\n",
    "import glob\n",
    "import numpy as np\n",
    "from dateutil import parser\n",
    "import time\n",
    "from tqdm import tqdm\n",
    "import urllib.request\n",
    "try: \n",
    "    import urllib2 as urllib \n",
    "except ImportError:\n",
    "    import urllib.request as urllib\n",
    "import json\n",
    "import sys\n",
    "from IPython.display import clear_output \n",
    "import requests"
   ]
  },
  {
   "cell_type": "markdown",
   "metadata": {
    "tags": []
   },
   "source": [
    "### 1. Save as .json"
   ]
  },
  {
   "cell_type": "code",
   "execution_count": 2,
   "metadata": {},
   "outputs": [],
   "source": [
    "for i in range(1,6):\n",
    "    apiKey = 'a879f07cec0311a7c25068cc3db7ad4c5617bfba'\n",
    "    pageth = i\n",
    "    pageSize = 200\n",
    "    url = str('https://data1.library.sh.cn/gj/webapi/sealOwnerList?Pageth={}&pageSize={}&key={}'.format(pageth,pageSize,apiKey))\n",
    "    data = urllib.urlopen(url).read().decode('utf-8')\n",
    "    data = json.loads(data)\n",
    "\n",
    "    ### output\n",
    "    fname = str(i).zfill(3)\n",
    "    save_dir = str('data_sealOwner/{}.json'.format(fname))\n",
    "    with open(save_dir, 'w') as f:\n",
    "        json.dump(data, f)\n",
    "    f.close()"
   ]
  },
  {
   "cell_type": "markdown",
   "metadata": {},
   "source": [
    "#### Check the data"
   ]
  },
  {
   "cell_type": "code",
   "execution_count": 5,
   "metadata": {},
   "outputs": [
    {
     "data": {
      "text/plain": [
       "{'birthday': '1527',\n",
       " 'name': '張鳳翼',\n",
       " 'description': '张凤翼（1527—1613）字伯起，号灵虚，别署灵墟先生、冷然居士。南直隶苏州府长洲（今江苏苏州）人。与弟燕翼、献翼并有才名，时人号为“三张”。嘉靖四十三年（1564）与燕翼皆中举人。为人狂诞，擅作曲。（来源：《上图古籍数据库》）',\n",
       " 'deathday': '1613',\n",
       " 'uri': 'http://data.library.sh.cn/entity/person/04gqe6a7kuntfz7t'}"
      ]
     },
     "execution_count": 5,
     "metadata": {},
     "output_type": "execute_result"
    }
   ],
   "source": [
    "f = open('data_sealOwner/002.json')\n",
    "sealOwner = json.load(f)\n",
    "sealOwner['data'][1]"
   ]
  },
  {
   "cell_type": "markdown",
   "metadata": {},
   "source": [
    "### 2. One json"
   ]
  },
  {
   "cell_type": "code",
   "execution_count": 6,
   "metadata": {},
   "outputs": [],
   "source": [
    "data_list = []\n",
    "for i in range(1,6):\n",
    "    fname = str(i).zfill(3)\n",
    "    save_dir = str('data_sealOwner/{}.json'.format(fname))\n",
    "    f = open(save_dir)\n",
    "    sealOwner = json.load(f)\n",
    "    data_list.extend(sealOwner['data'])\n",
    "with open('sealOwner_all.json', 'w') as f:\n",
    "    json.dump(data_list, f)\n",
    "f.close()"
   ]
  },
  {
   "cell_type": "markdown",
   "metadata": {},
   "source": [
    "#### Check unique"
   ]
  },
  {
   "cell_type": "code",
   "execution_count": 7,
   "metadata": {},
   "outputs": [
    {
     "data": {
      "text/plain": [
       "{'birthday': '1832',\n",
       " 'name': '丁丙',\n",
       " 'description': '丁丙（1832—1899）字嘉魚，别字松生，清杭州錢塘（今杭州）人，與其兄丁申共同經營八千卷樓藏書，時人稱之爲「雙丁」。\\n八千卷樓藏書淵源有自。先是，丁氏祖父丁國典慕其北宋先人丁顗有書八千卷之雅事，始於杭州營建藏書樓，並請當時名士梁山舟爲題「八千卷樓」匾額，傳至丁氏父親丁英，晨購露鈔，插架漸富。及丁申、丁丙兄弟，更是珍惜琳琅，考校精審，盛名遠播。\\n丁氏兄弟之所以名垂後世，受人尊重，不僅是因爲八千卷樓的豐富收藏，更主要在於他們歷盡艱辛，悉心呵護，修復因戰亂散失的文瀾閣藏書。咸豐十一年（1861）年，太平軍再破杭州，丁氏兄弟避難於城外，無意中發現了散出的文瀾閣《四庫全書》的書葉，痛惜之餘，兄弟倆開始了搜尋、修復文瀾閣本《四庫全書》的艱難歷程。經過不懈的努力，兄弟倆先後竟搶救得《四庫全書》近九千册。丁氏兄弟先是把書運到當時比較安全的上海，後來又運回杭州。原任典守閣書的陸光祺爲此繪圖紀事，浙江巡撫左宗棠爲題《書庫抱殘圖》，後人傳爲佳話。\\n由於當時文瀾閣已傾圮，丁氏兄弟運回之書祇能暫時藏於杭州府學尊經閣。光緒六年（1880），巡撫譚鍾麟與丁丙商議重建文瀾閣，次年閣成。此後丁丙又開始了補抄缺損的文瀾閣《四庫全書》的巨大工程，遂使文瀾閣《四庫全書》大體上恢復了原貌。\\n丁氏藏書樓總名「嘉惠堂」，建於光緒十四年（1888）。據丁丙《八千卷樓自記》載，樓凡五楹，正堂懸挂譚鍾麟手書「嘉惠堂」，其上即著名的「八千卷樓」，藏四庫著録之書；堂後爲「後八千卷樓」，規制和八千卷樓相同，藏四庫未著録之書；更後偏西爲「善本書室」，上下三楹，其上即「小八千卷樓」，藏宋元刊本及精鈔精校之書。\\n丁氏藏書目録主要有二：一是《八千卷樓書目》，是爲丁氏藏書總目；二是《善本書室藏書志》，著録小八千卷樓所藏宋元舊槧、名鈔名校及稿本。此外，丁申著有《武林藏書録》，記載自晉而後杭州藏書家史略及自宋至清杭州官家藏書、刻書的概况，對中國藏書史和中國出版史的研究均有相當價值。\\n光緒三十三年（1907），丁氏後人因經商失敗，虧空巨萬。鑒於皕宋樓東流的教訓，經兩江總督端方和江蘇著名藏書家繆荃孫的斡旋，八千卷樓藏書以七萬五千元歸於我國最早的公共圖書館江南圖書館，即現在南京圖書館的前身。（来源：《明清著名藏书家藏书印》）',\n",
       " 'deathday': '1899',\n",
       " 'uri': 'http://data.library.sh.cn/entity/person/ygd6czavhmkv3oa5'}"
      ]
     },
     "execution_count": 7,
     "metadata": {},
     "output_type": "execute_result"
    }
   ],
   "source": [
    "f = open('sealOwner_all.json')\n",
    "sealOwner_all = json.load(f)\n",
    "sealOwner_all[0]"
   ]
  },
  {
   "cell_type": "code",
   "execution_count": 10,
   "metadata": {},
   "outputs": [
    {
     "name": "stdout",
     "output_type": "stream",
     "text": [
      "sealOwner names: 459\n",
      "Repeated: 2\n"
     ]
    },
    {
     "data": {
      "text/plain": [
       "['法若真', '黃君璧']"
      ]
     },
     "execution_count": 10,
     "metadata": {},
     "output_type": "execute_result"
    }
   ],
   "source": [
    "a_key = \"name\"\n",
    "list_of_values = [a_dict[a_key] for a_dict in sealOwner_all]\n",
    "print('sealOwner names:', len(list_of_values))\n",
    "# my_dict = {i:list_of_values.count(i) for i in list_of_values}\n",
    "import collections\n",
    "repeat = [item for item, count in collections.Counter(list_of_values).items() if count > 1]\n",
    "print('Repeated:', len(repeat))\n",
    "repeat"
   ]
  },
  {
   "cell_type": "code",
   "execution_count": null,
   "metadata": {},
   "outputs": [],
   "source": []
  },
  {
   "cell_type": "code",
   "execution_count": 116,
   "metadata": {},
   "outputs": [
    {
     "name": "stdout",
     "output_type": "stream",
     "text": [
      "Processed 7300 rows,\n",
      "Processed 7400 rows,\n",
      "Processed 7500 rows,\n",
      "Processed 7600 rows,\n",
      "Processed 7700 rows,\n",
      "Processed 7800 rows,\n",
      "Processed 7900 rows,\n",
      "Processed 8000 rows,\n",
      "Processed 8100 rows,\n",
      "Processed 8200 rows,\n",
      "Processed 8300 rows,\n",
      "Processed 8400 rows,\n",
      "Processed 8500 rows,\n",
      "Processed 8600 rows,\n",
      "Processed 8700 rows,\n",
      "Processed 8800 rows,\n",
      "Processed 8900 rows,\n",
      "Processed 9000 rows,\n",
      "Processed 9100 rows,\n",
      "Processed 9200 rows,\n",
      "Processed 9300 rows,\n",
      "Processed 9400 rows,\n",
      "Processed 9500 rows,\n",
      "Processed 9600 rows,\n",
      "Processed 9700 rows,\n",
      "Processed 9800 rows,\n",
      "Processed 9900 rows,\n",
      "Processed 10000 rows,\n"
     ]
    }
   ],
   "source": [
    "count = 0\n",
    "for l in seal_all:\n",
    "    sealCharactersChs = l['sealCharactersChs']\n",
    "    img_uri = 'http:' + l['img'][0]['imgUri']\n",
    "    img_fname = str(count).zfill(4) + '_' + str(sealCharactersChs) + '.jpg'\n",
    "    save_dir = 'img/' + img_fname\n",
    "    if count > 9615: \n",
    "        urllib.urlretrieve(img_uri, save_dir) \n",
    "    count += 1\n",
    "    if count % 100 == 0 and count > 7220:\n",
    "        print('Processed %d rows,' % count)"
   ]
  },
  {
   "cell_type": "code",
   "execution_count": null,
   "metadata": {},
   "outputs": [],
   "source": []
  },
  {
   "cell_type": "code",
   "execution_count": null,
   "metadata": {
    "deletable": false,
    "nbgrader": {
     "cell_type": "code",
     "checksum": "4d0d75abc13ab8deefd24ac7fe9a7b32",
     "grade": true,
     "grade_id": "cell-f778cee509e3a316",
     "locked": false,
     "points": 1,
     "schema_version": 3,
     "solution": true,
     "task": false
    }
   },
   "outputs": [],
   "source": []
  }
 ],
 "metadata": {
  "kernelspec": {
   "display_name": "ads",
   "language": "python",
   "name": "ads"
  },
  "language_info": {
   "codemirror_mode": {
    "name": "ipython",
    "version": 3
   },
   "file_extension": ".py",
   "mimetype": "text/x-python",
   "name": "python",
   "nbconvert_exporter": "python",
   "pygments_lexer": "ipython3",
   "version": "3.7.11"
  }
 },
 "nbformat": 4,
 "nbformat_minor": 4
}
