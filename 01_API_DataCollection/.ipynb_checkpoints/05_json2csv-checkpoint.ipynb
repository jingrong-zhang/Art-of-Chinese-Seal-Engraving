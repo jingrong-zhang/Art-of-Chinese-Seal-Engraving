{
 "cells": [
  {
   "cell_type": "code",
   "execution_count": 47,
   "id": "41f4280e-cdd0-450d-8e22-ec05fdb65f97",
   "metadata": {},
   "outputs": [],
   "source": [
    "import json\n",
    "import csv\n",
    "import ast\n",
    "import pandas as pd\n",
    "pd.set_option('display.max_columns', None)"
   ]
  },
  {
   "cell_type": "code",
   "execution_count": 109,
   "id": "08e1af00-a6d4-4638-b52b-b1c7a0834f6c",
   "metadata": {},
   "outputs": [
    {
     "name": "stdout",
     "output_type": "stream",
     "text": [
      "12 ['owner', 'ownerOfSeal', 'img', 'sealCharactersCht', 'label', 'sealCharactersChs', 'sealCharacters', 'labelCht', 'uri', 'labelChs', 'libliotheca', 'description']\n",
      "True True\n"
     ]
    },
    {
     "data": {
      "text/html": [
       "<div>\n",
       "<style scoped>\n",
       "    .dataframe tbody tr th:only-of-type {\n",
       "        vertical-align: middle;\n",
       "    }\n",
       "\n",
       "    .dataframe tbody tr th {\n",
       "        vertical-align: top;\n",
       "    }\n",
       "\n",
       "    .dataframe thead th {\n",
       "        text-align: right;\n",
       "    }\n",
       "</style>\n",
       "<table border=\"1\" class=\"dataframe\">\n",
       "  <thead>\n",
       "    <tr style=\"text-align: right;\">\n",
       "      <th></th>\n",
       "      <th>owner</th>\n",
       "      <th>ownerOfSeal</th>\n",
       "      <th>img</th>\n",
       "      <th>labelCht</th>\n",
       "      <th>labelChs</th>\n",
       "      <th>uri</th>\n",
       "      <th>libliotheca</th>\n",
       "      <th>description</th>\n",
       "    </tr>\n",
       "  </thead>\n",
       "  <tbody>\n",
       "    <tr>\n",
       "      <th>0</th>\n",
       "      <td>[{'name': '蒋风白', 'uri': 'http://data.library.s...</td>\n",
       "      <td>[蒋风白]</td>\n",
       "      <td>[{'imgUri': '//img.library.sh.cn/gj/seal/zzxfm...</td>\n",
       "      <td>蔣風白寫生記</td>\n",
       "      <td>蒋风白写生记</td>\n",
       "      <td>http://data.library.sh.cn/gj/entity/seal/f3cy3...</td>\n",
       "      <td>NaN</td>\n",
       "      <td>NaN</td>\n",
       "    </tr>\n",
       "    <tr>\n",
       "      <th>1</th>\n",
       "      <td>[{'name': '高其佩', 'uri': 'http://data.library.s...</td>\n",
       "      <td>[高其佩]</td>\n",
       "      <td>[{'imgUri': '//img.library.sh.cn/gj/seal/zzx5d...</td>\n",
       "      <td>韋之</td>\n",
       "      <td>韦之</td>\n",
       "      <td>http://data.library.sh.cn/gj/entity/seal/yq0vl...</td>\n",
       "      <td>NaN</td>\n",
       "      <td>NaN</td>\n",
       "    </tr>\n",
       "    <tr>\n",
       "      <th>2</th>\n",
       "      <td>[{'name': '程正揆', 'uri': 'http://data.library.s...</td>\n",
       "      <td>[程正揆]</td>\n",
       "      <td>[{'imgUri': '//img.library.sh.cn/gj/seal/zzx04...</td>\n",
       "      <td>揆</td>\n",
       "      <td>揆</td>\n",
       "      <td>http://data.library.sh.cn/gj/entity/seal/nzxnk...</td>\n",
       "      <td>NaN</td>\n",
       "      <td>NaN</td>\n",
       "    </tr>\n",
       "    <tr>\n",
       "      <th>3</th>\n",
       "      <td>[{'name': '榭稚柳', 'uri': 'http://data.library.s...</td>\n",
       "      <td>[榭稚柳]</td>\n",
       "      <td>[{'imgUri': '//img.library.sh.cn/gj/seal/zzrjr...</td>\n",
       "      <td>塞北繞春1</td>\n",
       "      <td>塞北绕春1</td>\n",
       "      <td>http://data.library.sh.cn/gj/entity/seal/i28et...</td>\n",
       "      <td>NaN</td>\n",
       "      <td>NaN</td>\n",
       "    </tr>\n",
       "    <tr>\n",
       "      <th>4</th>\n",
       "      <td>[{'uri': 'http://data.library.sh.cn/entity/per...</td>\n",
       "      <td>[谭延闿]</td>\n",
       "      <td>[{'imgUri': '//img.library.sh.cn/gj/seal/zzkyj...</td>\n",
       "      <td>譚延闿印5</td>\n",
       "      <td>谭延闿印5</td>\n",
       "      <td>http://data.library.sh.cn/gj/entity/seal/85efq...</td>\n",
       "      <td>NaN</td>\n",
       "      <td>NaN</td>\n",
       "    </tr>\n",
       "    <tr>\n",
       "      <th>...</th>\n",
       "      <td>...</td>\n",
       "      <td>...</td>\n",
       "      <td>...</td>\n",
       "      <td>...</td>\n",
       "      <td>...</td>\n",
       "      <td>...</td>\n",
       "      <td>...</td>\n",
       "      <td>...</td>\n",
       "    </tr>\n",
       "    <tr>\n",
       "      <th>9995</th>\n",
       "      <td>[{'name': '傅抱石', 'uri': 'http://data.library.s...</td>\n",
       "      <td>[傅抱石]</td>\n",
       "      <td>[{'imgUri': '//img.library.sh.cn/gj/seal/80bjy...</td>\n",
       "      <td>抱石8</td>\n",
       "      <td>抱石8</td>\n",
       "      <td>http://data.library.sh.cn/gj/entity/seal/3jdbe...</td>\n",
       "      <td>NaN</td>\n",
       "      <td>NaN</td>\n",
       "    </tr>\n",
       "    <tr>\n",
       "      <th>9996</th>\n",
       "      <td>[{'name': '莫是龙', 'uri': 'http://data.library.s...</td>\n",
       "      <td>[莫是龙]</td>\n",
       "      <td>[{'imgUri': '//img.library.sh.cn/gj/seal/80b0r...</td>\n",
       "      <td>秋水亭</td>\n",
       "      <td>秋水亭</td>\n",
       "      <td>http://data.library.sh.cn/gj/entity/seal/vqpcj...</td>\n",
       "      <td>NaN</td>\n",
       "      <td>NaN</td>\n",
       "    </tr>\n",
       "    <tr>\n",
       "      <th>9997</th>\n",
       "      <td>[{'name': '文征明', 'uri': 'http://data.library.s...</td>\n",
       "      <td>[文徵明]</td>\n",
       "      <td>[{'imgUri': '//img.library.sh.cn/gj/seal/80awc...</td>\n",
       "      <td>徵明5</td>\n",
       "      <td>徵明5</td>\n",
       "      <td>http://data.library.sh.cn/gj/entity/seal/ktwze...</td>\n",
       "      <td>NaN</td>\n",
       "      <td>NaN</td>\n",
       "    </tr>\n",
       "    <tr>\n",
       "      <th>9998</th>\n",
       "      <td>[{'name': '项圣谟', 'uri': 'http://data.library.s...</td>\n",
       "      <td>[项圣谟]</td>\n",
       "      <td>[{'imgUri': '//img.library.sh.cn/gj/seal/8082q...</td>\n",
       "      <td>項</td>\n",
       "      <td>项</td>\n",
       "      <td>http://data.library.sh.cn/gj/entity/seal/oxiwq...</td>\n",
       "      <td>NaN</td>\n",
       "      <td>NaN</td>\n",
       "    </tr>\n",
       "    <tr>\n",
       "      <th>9999</th>\n",
       "      <td>[{'name': '童大年', 'uri': 'http://data.library.s...</td>\n",
       "      <td>[童大年]</td>\n",
       "      <td>[{'imgUri': '//img.library.sh.cn/gj/seal/801l8...</td>\n",
       "      <td>返老還童</td>\n",
       "      <td>返老还童</td>\n",
       "      <td>http://data.library.sh.cn/gj/entity/seal/fqqvr...</td>\n",
       "      <td>NaN</td>\n",
       "      <td>NaN</td>\n",
       "    </tr>\n",
       "  </tbody>\n",
       "</table>\n",
       "<p>10000 rows × 8 columns</p>\n",
       "</div>"
      ],
      "text/plain": [
       "                                                  owner ownerOfSeal  \\\n",
       "0     [{'name': '蒋风白', 'uri': 'http://data.library.s...       [蒋风白]   \n",
       "1     [{'name': '高其佩', 'uri': 'http://data.library.s...       [高其佩]   \n",
       "2     [{'name': '程正揆', 'uri': 'http://data.library.s...       [程正揆]   \n",
       "3     [{'name': '榭稚柳', 'uri': 'http://data.library.s...       [榭稚柳]   \n",
       "4     [{'uri': 'http://data.library.sh.cn/entity/per...       [谭延闿]   \n",
       "...                                                 ...         ...   \n",
       "9995  [{'name': '傅抱石', 'uri': 'http://data.library.s...       [傅抱石]   \n",
       "9996  [{'name': '莫是龙', 'uri': 'http://data.library.s...       [莫是龙]   \n",
       "9997  [{'name': '文征明', 'uri': 'http://data.library.s...       [文徵明]   \n",
       "9998  [{'name': '项圣谟', 'uri': 'http://data.library.s...       [项圣谟]   \n",
       "9999  [{'name': '童大年', 'uri': 'http://data.library.s...       [童大年]   \n",
       "\n",
       "                                                    img labelCht labelChs  \\\n",
       "0     [{'imgUri': '//img.library.sh.cn/gj/seal/zzxfm...   蔣風白寫生記   蒋风白写生记   \n",
       "1     [{'imgUri': '//img.library.sh.cn/gj/seal/zzx5d...       韋之       韦之   \n",
       "2     [{'imgUri': '//img.library.sh.cn/gj/seal/zzx04...        揆        揆   \n",
       "3     [{'imgUri': '//img.library.sh.cn/gj/seal/zzrjr...    塞北繞春1    塞北绕春1   \n",
       "4     [{'imgUri': '//img.library.sh.cn/gj/seal/zzkyj...    譚延闿印5    谭延闿印5   \n",
       "...                                                 ...      ...      ...   \n",
       "9995  [{'imgUri': '//img.library.sh.cn/gj/seal/80bjy...      抱石8      抱石8   \n",
       "9996  [{'imgUri': '//img.library.sh.cn/gj/seal/80b0r...      秋水亭      秋水亭   \n",
       "9997  [{'imgUri': '//img.library.sh.cn/gj/seal/80awc...      徵明5      徵明5   \n",
       "9998  [{'imgUri': '//img.library.sh.cn/gj/seal/8082q...        項        项   \n",
       "9999  [{'imgUri': '//img.library.sh.cn/gj/seal/801l8...     返老還童     返老还童   \n",
       "\n",
       "                                                    uri libliotheca  \\\n",
       "0     http://data.library.sh.cn/gj/entity/seal/f3cy3...         NaN   \n",
       "1     http://data.library.sh.cn/gj/entity/seal/yq0vl...         NaN   \n",
       "2     http://data.library.sh.cn/gj/entity/seal/nzxnk...         NaN   \n",
       "3     http://data.library.sh.cn/gj/entity/seal/i28et...         NaN   \n",
       "4     http://data.library.sh.cn/gj/entity/seal/85efq...         NaN   \n",
       "...                                                 ...         ...   \n",
       "9995  http://data.library.sh.cn/gj/entity/seal/3jdbe...         NaN   \n",
       "9996  http://data.library.sh.cn/gj/entity/seal/vqpcj...         NaN   \n",
       "9997  http://data.library.sh.cn/gj/entity/seal/ktwze...         NaN   \n",
       "9998  http://data.library.sh.cn/gj/entity/seal/oxiwq...         NaN   \n",
       "9999  http://data.library.sh.cn/gj/entity/seal/fqqvr...         NaN   \n",
       "\n",
       "     description  \n",
       "0            NaN  \n",
       "1            NaN  \n",
       "2            NaN  \n",
       "3            NaN  \n",
       "4            NaN  \n",
       "...          ...  \n",
       "9995         NaN  \n",
       "9996         NaN  \n",
       "9997         NaN  \n",
       "9998         NaN  \n",
       "9999         NaN  \n",
       "\n",
       "[10000 rows x 8 columns]"
      ]
     },
     "execution_count": 109,
     "metadata": {},
     "output_type": "execute_result"
    }
   ],
   "source": [
    "### json to csv\n",
    "with open('seal_all.json', encoding='utf-8') as inputfile:\n",
    "    df = pd.read_json(inputfile)\n",
    "print(len(df.columns.tolist()), df.columns.tolist())\n",
    "print(df['sealCharactersCht'].equals(df['labelCht']), df['sealCharactersChs'].equals(df['labelChs']))\n",
    "df = df[['owner','ownerOfSeal','img','labelCht','labelChs','uri','libliotheca','description']]\n",
    "df.loc[180:181,:]\n",
    "df"
   ]
  },
  {
   "cell_type": "code",
   "execution_count": null,
   "id": "03ba461e-96e8-4a36-9d87-a39c43c117a2",
   "metadata": {},
   "outputs": [],
   "source": [
    "df['owner_name'] = "
   ]
  },
  {
   "cell_type": "code",
   "execution_count": 114,
   "id": "9674ac45-edc4-4656-b5f4-073a6611ac9b",
   "metadata": {},
   "outputs": [
    {
     "ename": "TypeError",
     "evalue": "'float' object is not subscriptable",
     "output_type": "error",
     "traceback": [
      "\u001b[0;31m---------------------------------------------------------------------------\u001b[0m",
      "\u001b[0;31mTypeError\u001b[0m                                 Traceback (most recent call last)",
      "\u001b[0;32m/var/folders/0y/1yc8_mn95db_pqjnbfdf0fs40000gn/T/ipykernel_58804/273097529.py\u001b[0m in \u001b[0;36m<module>\u001b[0;34m\u001b[0m\n\u001b[0;32m----> 1\u001b[0;31m \u001b[0mdf\u001b[0m\u001b[0;34m[\u001b[0m\u001b[0;34m'ownerOfSeal'\u001b[0m\u001b[0;34m]\u001b[0m\u001b[0;34m.\u001b[0m\u001b[0mapply\u001b[0m\u001b[0;34m(\u001b[0m\u001b[0;32mlambda\u001b[0m \u001b[0mx\u001b[0m\u001b[0;34m:\u001b[0m \u001b[0mx\u001b[0m\u001b[0;34m[\u001b[0m\u001b[0;36m0\u001b[0m\u001b[0;34m]\u001b[0m\u001b[0;34m)\u001b[0m\u001b[0;34m\u001b[0m\u001b[0;34m\u001b[0m\u001b[0m\n\u001b[0m",
      "\u001b[0;32m~/opt/anaconda3/envs/ads/lib/python3.7/site-packages/pandas/core/series.py\u001b[0m in \u001b[0;36mapply\u001b[0;34m(self, func, convert_dtype, args, **kwargs)\u001b[0m\n\u001b[1;32m   4355\u001b[0m         \u001b[0mdtype\u001b[0m\u001b[0;34m:\u001b[0m \u001b[0mfloat64\u001b[0m\u001b[0;34m\u001b[0m\u001b[0;34m\u001b[0m\u001b[0m\n\u001b[1;32m   4356\u001b[0m         \"\"\"\n\u001b[0;32m-> 4357\u001b[0;31m         \u001b[0;32mreturn\u001b[0m \u001b[0mSeriesApply\u001b[0m\u001b[0;34m(\u001b[0m\u001b[0mself\u001b[0m\u001b[0;34m,\u001b[0m \u001b[0mfunc\u001b[0m\u001b[0;34m,\u001b[0m \u001b[0mconvert_dtype\u001b[0m\u001b[0;34m,\u001b[0m \u001b[0margs\u001b[0m\u001b[0;34m,\u001b[0m \u001b[0mkwargs\u001b[0m\u001b[0;34m)\u001b[0m\u001b[0;34m.\u001b[0m\u001b[0mapply\u001b[0m\u001b[0;34m(\u001b[0m\u001b[0;34m)\u001b[0m\u001b[0;34m\u001b[0m\u001b[0;34m\u001b[0m\u001b[0m\n\u001b[0m\u001b[1;32m   4358\u001b[0m \u001b[0;34m\u001b[0m\u001b[0m\n\u001b[1;32m   4359\u001b[0m     def _reduce(\n",
      "\u001b[0;32m~/opt/anaconda3/envs/ads/lib/python3.7/site-packages/pandas/core/apply.py\u001b[0m in \u001b[0;36mapply\u001b[0;34m(self)\u001b[0m\n\u001b[1;32m   1041\u001b[0m             \u001b[0;32mreturn\u001b[0m \u001b[0mself\u001b[0m\u001b[0;34m.\u001b[0m\u001b[0mapply_str\u001b[0m\u001b[0;34m(\u001b[0m\u001b[0;34m)\u001b[0m\u001b[0;34m\u001b[0m\u001b[0;34m\u001b[0m\u001b[0m\n\u001b[1;32m   1042\u001b[0m \u001b[0;34m\u001b[0m\u001b[0m\n\u001b[0;32m-> 1043\u001b[0;31m         \u001b[0;32mreturn\u001b[0m \u001b[0mself\u001b[0m\u001b[0;34m.\u001b[0m\u001b[0mapply_standard\u001b[0m\u001b[0;34m(\u001b[0m\u001b[0;34m)\u001b[0m\u001b[0;34m\u001b[0m\u001b[0;34m\u001b[0m\u001b[0m\n\u001b[0m\u001b[1;32m   1044\u001b[0m \u001b[0;34m\u001b[0m\u001b[0m\n\u001b[1;32m   1045\u001b[0m     \u001b[0;32mdef\u001b[0m \u001b[0magg\u001b[0m\u001b[0;34m(\u001b[0m\u001b[0mself\u001b[0m\u001b[0;34m)\u001b[0m\u001b[0;34m:\u001b[0m\u001b[0;34m\u001b[0m\u001b[0;34m\u001b[0m\u001b[0m\n",
      "\u001b[0;32m~/opt/anaconda3/envs/ads/lib/python3.7/site-packages/pandas/core/apply.py\u001b[0m in \u001b[0;36mapply_standard\u001b[0;34m(self)\u001b[0m\n\u001b[1;32m   1099\u001b[0m                     \u001b[0mvalues\u001b[0m\u001b[0;34m,\u001b[0m\u001b[0;34m\u001b[0m\u001b[0;34m\u001b[0m\u001b[0m\n\u001b[1;32m   1100\u001b[0m                     \u001b[0mf\u001b[0m\u001b[0;34m,\u001b[0m  \u001b[0;31m# type: ignore[arg-type]\u001b[0m\u001b[0;34m\u001b[0m\u001b[0;34m\u001b[0m\u001b[0m\n\u001b[0;32m-> 1101\u001b[0;31m                     \u001b[0mconvert\u001b[0m\u001b[0;34m=\u001b[0m\u001b[0mself\u001b[0m\u001b[0;34m.\u001b[0m\u001b[0mconvert_dtype\u001b[0m\u001b[0;34m,\u001b[0m\u001b[0;34m\u001b[0m\u001b[0;34m\u001b[0m\u001b[0m\n\u001b[0m\u001b[1;32m   1102\u001b[0m                 )\n\u001b[1;32m   1103\u001b[0m \u001b[0;34m\u001b[0m\u001b[0m\n",
      "\u001b[0;32m~/opt/anaconda3/envs/ads/lib/python3.7/site-packages/pandas/_libs/lib.pyx\u001b[0m in \u001b[0;36mpandas._libs.lib.map_infer\u001b[0;34m()\u001b[0m\n",
      "\u001b[0;32m/var/folders/0y/1yc8_mn95db_pqjnbfdf0fs40000gn/T/ipykernel_58804/273097529.py\u001b[0m in \u001b[0;36m<lambda>\u001b[0;34m(x)\u001b[0m\n\u001b[0;32m----> 1\u001b[0;31m \u001b[0mdf\u001b[0m\u001b[0;34m[\u001b[0m\u001b[0;34m'ownerOfSeal'\u001b[0m\u001b[0;34m]\u001b[0m\u001b[0;34m.\u001b[0m\u001b[0mapply\u001b[0m\u001b[0;34m(\u001b[0m\u001b[0;32mlambda\u001b[0m \u001b[0mx\u001b[0m\u001b[0;34m:\u001b[0m \u001b[0mx\u001b[0m\u001b[0;34m[\u001b[0m\u001b[0;36m0\u001b[0m\u001b[0;34m]\u001b[0m\u001b[0;34m)\u001b[0m\u001b[0;34m\u001b[0m\u001b[0;34m\u001b[0m\u001b[0m\n\u001b[0m",
      "\u001b[0;31mTypeError\u001b[0m: 'float' object is not subscriptable"
     ]
    }
   ],
   "source": [
    "df['ownerOfSeal'].apply(lambda x: x[0])"
   ]
  },
  {
   "cell_type": "code",
   "execution_count": null,
   "id": "b4679f0b-7b07-451a-87f0-7f1fe75c38ff",
   "metadata": {},
   "outputs": [],
   "source": []
  },
  {
   "cell_type": "code",
   "execution_count": 72,
   "id": "d9113bf9-4af2-473f-b2e2-286e6247275a",
   "metadata": {},
   "outputs": [
    {
     "data": {
      "text/plain": [
       "'叶德荣'"
      ]
     },
     "execution_count": 72,
     "metadata": {},
     "output_type": "execute_result"
    }
   ],
   "source": [
    "df['owner'][180][0]['name']"
   ]
  },
  {
   "cell_type": "code",
   "execution_count": 60,
   "id": "69d46c28-7ad0-4720-ba3f-e291e73932a1",
   "metadata": {},
   "outputs": [
    {
     "data": {
      "text/plain": [
       "[{'name': '叶德荣',\n",
       "  'uri': 'http://data.library.sh.cn/entity/person/x0gbtst3xp3uxes0'}]"
      ]
     },
     "execution_count": 60,
     "metadata": {},
     "output_type": "execute_result"
    }
   ],
   "source": [
    "df['owner'][180]"
   ]
  },
  {
   "cell_type": "code",
   "execution_count": 61,
   "id": "d2641f6c-b75d-41c4-9d47-a923a4e2e1b0",
   "metadata": {},
   "outputs": [
    {
     "data": {
      "text/plain": [
       "[{'imgUri': '//img.library.sh.cn/gj/seal/z78uvsvycqzfphi6.jpg',\n",
       "  'description': '葉德榮甫世藏',\n",
       "  'source': '明清藏书家藏书印',\n",
       "  'imgAbout': 'http://data.library.sh.cn/gj/entity/seal/3qy8iu2aqk2bfpgi'}]"
      ]
     },
     "execution_count": 61,
     "metadata": {},
     "output_type": "execute_result"
    }
   ],
   "source": [
    "df['img'][180]"
   ]
  },
  {
   "cell_type": "code",
   "execution_count": 64,
   "id": "0342f77e-23bd-445a-9b0b-dc203f848c61",
   "metadata": {},
   "outputs": [
    {
     "data": {
      "text/plain": [
       "[{'name': '菉竹堂',\n",
       "  'description': '按照一般的規律，藏書家必然有一藏書樓，或大或小，或豪華，或簡陋，但總有一專門的藏書之處，然而明代江蘇的藏書大家葉盛卻沒有這份一般人習以爲常的幸運，雖然他的菉竹堂名聲在外，但書樓卻是在他死後，由其孫葉恭煥建成的。\\n葉盛（1420—1474）字與中，號蛻庵，明江蘇昆山人。正統十三年（1448）進士，官至吏部左侍郎。王世貞《菉竹堂記》云：「生平無他嗜好，顧獨篤於書，手自抄讎，至數萬卷。」\\n葉盛曾長年在邊鎮爲官，受條件限制，讀書、聚書都十分不便，但無論官邸移至何處，他身邊總是帶著幾個專門抄書的人，長年爲他抄書。每抄成一書，他必認真校閲，並且鈐上他的官印爲記，原鐵琴銅劍樓藏葉盛舊物《論語》上即有「鎮撫燕雲關防」、「巡撫宣府關防」印記。錢大昕《江雨軒集跋》説他：「服官數十年，未嘗一日輟書。」及至晚年，葉盛藏書積至四千六百餘冊，共二萬二千七百多卷，爲當時江蘇藏書家之首。葉盛曾欲建樓專門庋藏這些圖書，並取《衛風·淇奧》「學問自修」之義，名其樓曰「菉竹」，但最終卻因清貧而未能建成。葉盛曾編有《菉竹堂書目》六卷，但後人以爲許多奇秘者並沒有編入書目中。\\n和所有藏書家一樣，葉盛希望自己的子孫也能像他一樣愛書、讀書，他曾寫過一段很有意思的《書櫥銘》：「讀必謹，鎖必牢，收必審，閣必高。子孫子，惟學斅，借非其人亦不孝。」後來，葉盛的子孫確能遵守他的教訓，愛惜他的這份特殊的遺産。葉盛去世後，其孫葉恭煥竟其遺志，終於建起了菉竹堂。葉恭煥字伯寅，號括蒼山人。書樓落成後，葉恭煥把祖上遺書移存堂內，又把以前親友們從祖父處借走的書收歸菉竹堂。據説直至葉盛死後一百多年，菉竹堂尚能「扃鑰未疏」。後代子孫亦不乏藏書家。',\n",
       "  'libliothecaUri': 'http://data.library.sh.cn/gj/entity/libliotheca/h58jz1fv8mj7w5v1'}]"
      ]
     },
     "execution_count": 64,
     "metadata": {},
     "output_type": "execute_result"
    }
   ],
   "source": [
    "df['libliotheca'][180]"
   ]
  },
  {
   "cell_type": "code",
   "execution_count": null,
   "id": "37809fe7-d490-4a63-9246-adfe9aff99ca",
   "metadata": {},
   "outputs": [],
   "source": []
  },
  {
   "cell_type": "code",
   "execution_count": null,
   "id": "de3dfc3c-7973-4da5-95c9-029a391215ee",
   "metadata": {},
   "outputs": [],
   "source": []
  },
  {
   "cell_type": "code",
   "execution_count": 59,
   "id": "4c0e4bde-d82b-42da-ac6f-5a40cae5e75a",
   "metadata": {},
   "outputs": [
    {
     "data": {
      "text/plain": [
       "'http://data.library.sh.cn/gj/entity/libliotheca/h58jz1fv8mj7w5v1'"
      ]
     },
     "execution_count": 59,
     "metadata": {},
     "output_type": "execute_result"
    }
   ],
   "source": [
    "df['libliotheca'][180][0]['libliothecaUri']"
   ]
  },
  {
   "cell_type": "code",
   "execution_count": 108,
   "id": "e6ece465-aa88-4139-a930-d5742666e21f",
   "metadata": {},
   "outputs": [
    {
     "data": {
      "text/plain": [
       "owner          object\n",
       "ownerOfSeal    object\n",
       "img            object\n",
       "labelCht       object\n",
       "labelChs       object\n",
       "uri            object\n",
       "libliotheca    object\n",
       "description    object\n",
       "dtype: object"
      ]
     },
     "execution_count": 108,
     "metadata": {},
     "output_type": "execute_result"
    }
   ],
   "source": [
    "df.dtypes"
   ]
  },
  {
   "cell_type": "code",
   "execution_count": null,
   "id": "54e690d0-d0f2-43b9-b815-14ee3895fee1",
   "metadata": {},
   "outputs": [],
   "source": [
    "# df.to_csv('seal_all.csv', encoding='utf-8', index=False)"
   ]
  },
  {
   "cell_type": "code",
   "execution_count": null,
   "id": "10f63bbb-47fd-4912-80d5-2b02cd47146e",
   "metadata": {},
   "outputs": [],
   "source": []
  }
 ],
 "metadata": {
  "kernelspec": {
   "display_name": "ads",
   "language": "python",
   "name": "ads"
  },
  "language_info": {
   "codemirror_mode": {
    "name": "ipython",
    "version": 3
   },
   "file_extension": ".py",
   "mimetype": "text/x-python",
   "name": "python",
   "nbconvert_exporter": "python",
   "pygments_lexer": "ipython3",
   "version": "3.7.11"
  }
 },
 "nbformat": 4,
 "nbformat_minor": 5
}
