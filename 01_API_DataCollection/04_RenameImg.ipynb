{
 "cells": [
  {
   "cell_type": "code",
   "execution_count": 1,
   "id": "1cda25e3-6de3-4e9a-9c83-a2e2c7595d59",
   "metadata": {},
   "outputs": [],
   "source": [
    "import os"
   ]
  },
  {
   "cell_type": "code",
   "execution_count": 2,
   "id": "65e95771-b09e-45b1-8328-092e5af0ac83",
   "metadata": {},
   "outputs": [],
   "source": [
    "for filename in os.listdir(\"../img\"):\n",
    "    if filename[-3:] == 'jpg':\n",
    "        fname = filename[5:-4]\n",
    "        if fname[-1].isdigit() == True:\n",
    "            new_filename = '../img/'+filename[:-5]+'.jpg'\n",
    "            old_filename = '../img/'+filename\n",
    "            print(old_filename, new_filename)\n",
    "            # os.rename(old_filename, new_filename)"
   ]
  },
  {
   "cell_type": "code",
   "execution_count": null,
   "id": "1d2746a0-ea16-4e10-992f-8ac2e4f89a49",
   "metadata": {},
   "outputs": [],
   "source": []
  }
 ],
 "metadata": {
  "kernelspec": {
   "display_name": "ads",
   "language": "python",
   "name": "ads"
  },
  "language_info": {
   "codemirror_mode": {
    "name": "ipython",
    "version": 3
   },
   "file_extension": ".py",
   "mimetype": "text/x-python",
   "name": "python",
   "nbconvert_exporter": "python",
   "pygments_lexer": "ipython3",
   "version": "3.7.11"
  }
 },
 "nbformat": 4,
 "nbformat_minor": 5
}
