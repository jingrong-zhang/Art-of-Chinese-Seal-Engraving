{
 "cells": [
  {
   "cell_type": "code",
   "execution_count": 4,
   "id": "1e23dd70",
   "metadata": {},
   "outputs": [],
   "source": [
    "import pandas as pd\n",
    "import numpy as np\n",
    "import glob\n",
    "import matplotlib\n",
    "import matplotlib.pyplot as plt\n",
    "import skimage.io\n",
    "import skimage.color\n",
    "import skimage.filters\n",
    "import skimage.measure\n",
    "from PIL import Image\n",
    "import os\n",
    "import shutil\n",
    "import json\n",
    "%matplotlib widget"
   ]
  },
  {
   "cell_type": "code",
   "execution_count": 2,
   "id": "3d570d74",
   "metadata": {},
   "outputs": [
    {
     "name": "stdout",
     "output_type": "stream",
     "text": [
      "Processed: 100\n",
      "Processed: 200\n",
      "Processed: 300\n",
      "Processed: 400\n",
      "Processed: 500\n",
      "Processed: 600\n",
      "Processed: 700\n",
      "Processed: 800\n",
      "Processed: 900\n",
      "Processed: 1000\n",
      "Processed: 1100\n",
      "Processed: 1200\n",
      "Processed: 1300\n",
      "Processed: 1400\n",
      "Processed: 1500\n",
      "Processed: 1600\n",
      "Processed: 1700\n",
      "Processed: 1800\n",
      "Processed: 1900\n",
      "Processed: 2000\n",
      "Processed: 2100\n",
      "Processed: 2200\n",
      "Processed: 2300\n",
      "Processed: 2400\n",
      "Processed: 2500\n",
      "Processed: 2600\n",
      "Processed: 2700\n",
      "Processed: 2800\n",
      "Processed: 2900\n",
      "Processed: 3000\n",
      "Processed: 3100\n",
      "Processed: 3200\n",
      "Processed: 3300\n",
      "Processed: 3400\n",
      "Processed: 3500\n",
      "Processed: 3600\n",
      "Processed: 3700\n",
      "Processed: 3800\n",
      "Processed: 3900\n",
      "Processed: 4000\n",
      "Processed: 4100\n",
      "Processed: 4200\n",
      "Processed: 4300\n",
      "Processed: 4400\n",
      "Processed: 4500\n",
      "Processed: 4600\n",
      "Processed: 4700\n",
      "Processed: 4800\n",
      "Processed: 4900\n",
      "Processed: 5000\n",
      "Processed: 5100\n",
      "Processed: 5200\n",
      "Processed: 5300\n",
      "Processed: 5400\n",
      "Processed: 5500\n",
      "Processed: 5600\n",
      "Processed: 5700\n",
      "Processed: 5800\n",
      "Processed: 5900\n",
      "Processed: 6000\n",
      "Processed: 6100\n",
      "Processed: 6200\n",
      "Processed: 6300\n",
      "Processed: 6400\n",
      "Processed: 6500\n",
      "Processed: 6600\n",
      "Processed: 6700\n",
      "Processed: 6800\n",
      "Processed: 6900\n",
      "Processed: 7000\n",
      "Processed: 7100\n",
      "Processed: 7200\n",
      "Processed: 7300\n",
      "Processed: 7400\n",
      "Processed: 7500\n",
      "Processed: 7600\n",
      "Processed: 7700\n",
      "Processed: 7800\n",
      "Processed: 7900\n",
      "Processed: 8000\n",
      "Processed: 8100\n",
      "Processed: 8200\n",
      "Processed: 8300\n",
      "Processed: 8400\n",
      "Processed: 8500\n",
      "Processed: 8600\n",
      "Processed: 8700\n",
      "Processed: 8800\n",
      "Processed: 8900\n",
      "Processed: 9000\n",
      "Processed: 9100\n",
      "Processed: 9200\n",
      "Processed: 9300\n",
      "Processed: 9400\n",
      "Processed: 9500\n",
      "Processed: 9600\n",
      "Processed: 9700\n",
      "Processed: 9800\n",
      "Processed: 9900\n",
      "Finish\n"
     ]
    }
   ],
   "source": [
    "binary_arr_list = []\n",
    "count = 0\n",
    "for filename in os.listdir(\"../png_crop\"):\n",
    "    number = filename[:4]\n",
    "    input_path = '../png_crop/' + filename\n",
    "    if filename[-3:] == 'png':\n",
    "        image = skimage.io.imread(input_path)\n",
    "        binary_list = []\n",
    "        for i in range(len(image)):\n",
    "            for j in range(len(image[i])):\n",
    "                if image[i][j][3] == 0:\n",
    "                    binary_list.append(0)   ### transparent: 0\n",
    "                else:\n",
    "                    binary_list.append(1)   ### color: 1\n",
    "        binary_arr = np.reshape(binary_list, (image.shape[0], image.shape[1]))\n",
    "        binary_arr_list.append([filename, binary_arr])\n",
    "        count += 1\n",
    "    if count % 100 == 0:\n",
    "        print('Processed:', count)\n",
    "print('Finish')"
   ]
  },
  {
   "cell_type": "code",
   "execution_count": 3,
   "id": "d81db360",
   "metadata": {},
   "outputs": [],
   "source": [
    "binary_arr_csv = pd.DataFrame(binary_arr_list, columns = ['filename', 'binary_arr'])\n",
    "binary_arr_csv.sort_values(by=['filename'], ascending=True, inplace=True)\n",
    "binary_arr_csv.reset_index(drop=True, inplace=True)\n",
    "# binary_arr_csv\n",
    "# binary_arr_csv.to_pickle('seal_binary_arr.pkl')"
   ]
  },
  {
   "cell_type": "code",
   "execution_count": null,
   "id": "4f4a4fda",
   "metadata": {},
   "outputs": [],
   "source": []
  },
  {
   "cell_type": "markdown",
   "id": "0b413358",
   "metadata": {},
   "source": [
    "### % of color area"
   ]
  },
  {
   "cell_type": "code",
   "execution_count": 2,
   "id": "8de5f24e",
   "metadata": {},
   "outputs": [
    {
     "data": {
      "text/html": [
       "<div>\n",
       "<style scoped>\n",
       "    .dataframe tbody tr th:only-of-type {\n",
       "        vertical-align: middle;\n",
       "    }\n",
       "\n",
       "    .dataframe tbody tr th {\n",
       "        vertical-align: top;\n",
       "    }\n",
       "\n",
       "    .dataframe thead th {\n",
       "        text-align: right;\n",
       "    }\n",
       "</style>\n",
       "<table border=\"1\" class=\"dataframe\">\n",
       "  <thead>\n",
       "    <tr style=\"text-align: right;\">\n",
       "      <th></th>\n",
       "      <th>filename</th>\n",
       "      <th>binary_arr</th>\n",
       "    </tr>\n",
       "  </thead>\n",
       "  <tbody>\n",
       "    <tr>\n",
       "      <th>0</th>\n",
       "      <td>0000_蒋风白写生记.png</td>\n",
       "      <td>[[0, 0, 0, 0, 0, 0, 0, 0, 0, 0, 0, 0, 0, 0, 0,...</td>\n",
       "    </tr>\n",
       "    <tr>\n",
       "      <th>1</th>\n",
       "      <td>0001_韦之.png</td>\n",
       "      <td>[[1, 1, 0, 0, 0, 0, 0, 0, 0, 0, 0, 0, 0, 0, 0,...</td>\n",
       "    </tr>\n",
       "    <tr>\n",
       "      <th>2</th>\n",
       "      <td>0002_揆.png</td>\n",
       "      <td>[[0, 0, 0, 0, 0, 0, 0, 0, 0, 0, 0, 0, 0, 0, 0,...</td>\n",
       "    </tr>\n",
       "    <tr>\n",
       "      <th>3</th>\n",
       "      <td>0003_塞北绕春.png</td>\n",
       "      <td>[[0, 0, 0, 0, 0, 0, 0, 0, 0, 0, 0, 0, 0, 0, 0,...</td>\n",
       "    </tr>\n",
       "    <tr>\n",
       "      <th>4</th>\n",
       "      <td>0004_谭延闿印.png</td>\n",
       "      <td>[[0, 0, 0, 0, 0, 0, 0, 0, 0, 0, 0, 0, 0, 0, 0,...</td>\n",
       "    </tr>\n",
       "    <tr>\n",
       "      <th>...</th>\n",
       "      <td>...</td>\n",
       "      <td>...</td>\n",
       "    </tr>\n",
       "    <tr>\n",
       "      <th>9991</th>\n",
       "      <td>9995_抱石.png</td>\n",
       "      <td>[[0, 0, 0, 0, 0, 0, 0, 0, 0, 0, 0, 0, 0, 0, 0,...</td>\n",
       "    </tr>\n",
       "    <tr>\n",
       "      <th>9992</th>\n",
       "      <td>9996_秋水亭.png</td>\n",
       "      <td>[[0, 0, 0, 0, 0, 0, 0, 0, 0, 0, 0, 0, 0, 0, 0,...</td>\n",
       "    </tr>\n",
       "    <tr>\n",
       "      <th>9993</th>\n",
       "      <td>9997_徵明.png</td>\n",
       "      <td>[[0, 0, 0, 0, 0, 0, 0, 0, 0, 0, 0, 0, 0, 0, 0,...</td>\n",
       "    </tr>\n",
       "    <tr>\n",
       "      <th>9994</th>\n",
       "      <td>9998_项.png</td>\n",
       "      <td>[[0, 0, 0, 0, 0, 0, 0, 0, 0, 0, 0, 0, 0, 0, 0,...</td>\n",
       "    </tr>\n",
       "    <tr>\n",
       "      <th>9995</th>\n",
       "      <td>9999_返老还童.png</td>\n",
       "      <td>[[0, 0, 0, 0, 0, 0, 0, 0, 0, 0, 0, 0, 0, 0, 0,...</td>\n",
       "    </tr>\n",
       "  </tbody>\n",
       "</table>\n",
       "<p>9996 rows × 2 columns</p>\n",
       "</div>"
      ],
      "text/plain": [
       "             filename                                         binary_arr\n",
       "0     0000_蒋风白写生记.png  [[0, 0, 0, 0, 0, 0, 0, 0, 0, 0, 0, 0, 0, 0, 0,...\n",
       "1         0001_韦之.png  [[1, 1, 0, 0, 0, 0, 0, 0, 0, 0, 0, 0, 0, 0, 0,...\n",
       "2          0002_揆.png  [[0, 0, 0, 0, 0, 0, 0, 0, 0, 0, 0, 0, 0, 0, 0,...\n",
       "3       0003_塞北绕春.png  [[0, 0, 0, 0, 0, 0, 0, 0, 0, 0, 0, 0, 0, 0, 0,...\n",
       "4       0004_谭延闿印.png  [[0, 0, 0, 0, 0, 0, 0, 0, 0, 0, 0, 0, 0, 0, 0,...\n",
       "...               ...                                                ...\n",
       "9991      9995_抱石.png  [[0, 0, 0, 0, 0, 0, 0, 0, 0, 0, 0, 0, 0, 0, 0,...\n",
       "9992     9996_秋水亭.png  [[0, 0, 0, 0, 0, 0, 0, 0, 0, 0, 0, 0, 0, 0, 0,...\n",
       "9993      9997_徵明.png  [[0, 0, 0, 0, 0, 0, 0, 0, 0, 0, 0, 0, 0, 0, 0,...\n",
       "9994       9998_项.png  [[0, 0, 0, 0, 0, 0, 0, 0, 0, 0, 0, 0, 0, 0, 0,...\n",
       "9995    9999_返老还童.png  [[0, 0, 0, 0, 0, 0, 0, 0, 0, 0, 0, 0, 0, 0, 0,...\n",
       "\n",
       "[9996 rows x 2 columns]"
      ]
     },
     "execution_count": 2,
     "metadata": {},
     "output_type": "execute_result"
    }
   ],
   "source": [
    "# test = pd.read_pickle('seal_binary_arr.pkl')\n",
    "# test"
   ]
  },
  {
   "cell_type": "code",
   "execution_count": 3,
   "id": "29d9f25f",
   "metadata": {},
   "outputs": [],
   "source": [
    "# test['x'] = test['binary_arr'].apply(lambda x: x.shape[0])\n",
    "# test['y'] = test['binary_arr'].apply(lambda x: x.shape[1])\n",
    "# test['size'] = test['x']*test['y']\n",
    "# test['color_area'] = test['binary_arr'].apply(lambda x: sum(sum(x)))\n",
    "# test['pct_color'] = test['color_area']/test['size']"
   ]
  },
  {
   "cell_type": "code",
   "execution_count": 6,
   "id": "3879494a",
   "metadata": {},
   "outputs": [],
   "source": [
    "# test"
   ]
  },
  {
   "cell_type": "code",
   "execution_count": 5,
   "id": "6df75cb9",
   "metadata": {},
   "outputs": [],
   "source": [
    "# test[['filename','x','y','size','color_area','pct_color']].to_csv('seal_pct_color.csv')"
   ]
  },
  {
   "cell_type": "code",
   "execution_count": 5,
   "id": "ee75e87d",
   "metadata": {},
   "outputs": [
    {
     "data": {
      "text/html": [
       "<div>\n",
       "<style scoped>\n",
       "    .dataframe tbody tr th:only-of-type {\n",
       "        vertical-align: middle;\n",
       "    }\n",
       "\n",
       "    .dataframe tbody tr th {\n",
       "        vertical-align: top;\n",
       "    }\n",
       "\n",
       "    .dataframe thead th {\n",
       "        text-align: right;\n",
       "    }\n",
       "</style>\n",
       "<table border=\"1\" class=\"dataframe\">\n",
       "  <thead>\n",
       "    <tr style=\"text-align: right;\">\n",
       "      <th></th>\n",
       "      <th>filename</th>\n",
       "      <th>x</th>\n",
       "      <th>y</th>\n",
       "      <th>size</th>\n",
       "      <th>color_area</th>\n",
       "      <th>pct_color</th>\n",
       "    </tr>\n",
       "  </thead>\n",
       "  <tbody>\n",
       "    <tr>\n",
       "      <th>0</th>\n",
       "      <td>0000_蒋风白写生记.png</td>\n",
       "      <td>500</td>\n",
       "      <td>496</td>\n",
       "      <td>248000</td>\n",
       "      <td>96013</td>\n",
       "      <td>0.387149</td>\n",
       "    </tr>\n",
       "    <tr>\n",
       "      <th>1</th>\n",
       "      <td>0001_韦之.png</td>\n",
       "      <td>740</td>\n",
       "      <td>529</td>\n",
       "      <td>391460</td>\n",
       "      <td>134905</td>\n",
       "      <td>0.344620</td>\n",
       "    </tr>\n",
       "    <tr>\n",
       "      <th>2</th>\n",
       "      <td>0002_揆.png</td>\n",
       "      <td>337</td>\n",
       "      <td>327</td>\n",
       "      <td>110199</td>\n",
       "      <td>38554</td>\n",
       "      <td>0.349858</td>\n",
       "    </tr>\n",
       "    <tr>\n",
       "      <th>3</th>\n",
       "      <td>0003_塞北绕春.png</td>\n",
       "      <td>592</td>\n",
       "      <td>582</td>\n",
       "      <td>344544</td>\n",
       "      <td>201401</td>\n",
       "      <td>0.584544</td>\n",
       "    </tr>\n",
       "    <tr>\n",
       "      <th>4</th>\n",
       "      <td>0004_谭延闿印.png</td>\n",
       "      <td>533</td>\n",
       "      <td>518</td>\n",
       "      <td>276094</td>\n",
       "      <td>126318</td>\n",
       "      <td>0.457518</td>\n",
       "    </tr>\n",
       "    <tr>\n",
       "      <th>...</th>\n",
       "      <td>...</td>\n",
       "      <td>...</td>\n",
       "      <td>...</td>\n",
       "      <td>...</td>\n",
       "      <td>...</td>\n",
       "      <td>...</td>\n",
       "    </tr>\n",
       "    <tr>\n",
       "      <th>9991</th>\n",
       "      <td>9995_抱石.png</td>\n",
       "      <td>373</td>\n",
       "      <td>193</td>\n",
       "      <td>71989</td>\n",
       "      <td>26715</td>\n",
       "      <td>0.371098</td>\n",
       "    </tr>\n",
       "    <tr>\n",
       "      <th>9992</th>\n",
       "      <td>9996_秋水亭.png</td>\n",
       "      <td>882</td>\n",
       "      <td>343</td>\n",
       "      <td>302526</td>\n",
       "      <td>85907</td>\n",
       "      <td>0.283966</td>\n",
       "    </tr>\n",
       "    <tr>\n",
       "      <th>9993</th>\n",
       "      <td>9997_徵明.png</td>\n",
       "      <td>493</td>\n",
       "      <td>238</td>\n",
       "      <td>117334</td>\n",
       "      <td>38647</td>\n",
       "      <td>0.329376</td>\n",
       "    </tr>\n",
       "    <tr>\n",
       "      <th>9994</th>\n",
       "      <td>9998_项.png</td>\n",
       "      <td>346</td>\n",
       "      <td>342</td>\n",
       "      <td>118332</td>\n",
       "      <td>30982</td>\n",
       "      <td>0.261823</td>\n",
       "    </tr>\n",
       "    <tr>\n",
       "      <th>9995</th>\n",
       "      <td>9999_返老还童.png</td>\n",
       "      <td>536</td>\n",
       "      <td>517</td>\n",
       "      <td>277112</td>\n",
       "      <td>146496</td>\n",
       "      <td>0.528653</td>\n",
       "    </tr>\n",
       "  </tbody>\n",
       "</table>\n",
       "<p>9996 rows × 6 columns</p>\n",
       "</div>"
      ],
      "text/plain": [
       "             filename    x    y    size  color_area  pct_color\n",
       "0     0000_蒋风白写生记.png  500  496  248000       96013   0.387149\n",
       "1         0001_韦之.png  740  529  391460      134905   0.344620\n",
       "2          0002_揆.png  337  327  110199       38554   0.349858\n",
       "3       0003_塞北绕春.png  592  582  344544      201401   0.584544\n",
       "4       0004_谭延闿印.png  533  518  276094      126318   0.457518\n",
       "...               ...  ...  ...     ...         ...        ...\n",
       "9991      9995_抱石.png  373  193   71989       26715   0.371098\n",
       "9992     9996_秋水亭.png  882  343  302526       85907   0.283966\n",
       "9993      9997_徵明.png  493  238  117334       38647   0.329376\n",
       "9994       9998_项.png  346  342  118332       30982   0.261823\n",
       "9995    9999_返老还童.png  536  517  277112      146496   0.528653\n",
       "\n",
       "[9996 rows x 6 columns]"
      ]
     },
     "execution_count": 5,
     "metadata": {},
     "output_type": "execute_result"
    }
   ],
   "source": [
    "test = pd.read_csv('seal_pct_color.csv', index_col=0)\n",
    "test"
   ]
  },
  {
   "cell_type": "code",
   "execution_count": 3,
   "id": "b49f1fd9",
   "metadata": {},
   "outputs": [
    {
     "data": {
      "text/plain": [
       "<AxesSubplot:>"
      ]
     },
     "execution_count": 3,
     "metadata": {},
     "output_type": "execute_result"
    },
    {
     "data": {
      "application/vnd.jupyter.widget-view+json": {
       "model_id": "1d9321302255490bacab138766cf9a69",
       "version_major": 2,
       "version_minor": 0
      },
      "image/png": "[encoded data removed]",
      "text/html": [
       "\n",
       "            <div style=\"display: inline-block;\">\n",
       "                <div class=\"jupyter-widgets widget-label\" style=\"text-align: center;\">\n",
       "                    Figure\n",
       "                </div>\n",
       "                <img src='data:image/png;base64,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' width=640.0/>\n",
       "            </div>\n",
       "        "
      ],
      "text/plain": [
       "Canvas(toolbar=Toolbar(toolitems=[('Home', 'Reset original view', 'home', 'home'), ('Back', 'Back to previous …"
      ]
     },
     "metadata": {},
     "output_type": "display_data"
    }
   ],
   "source": [
    "# test['pct_color'].hist(bins=50)"
   ]
  },
  {
   "cell_type": "code",
   "execution_count": 33,
   "id": "c70cb64c",
   "metadata": {},
   "outputs": [
    {
     "name": "stdout",
     "output_type": "stream",
     "text": [
      "finish\n"
     ]
    }
   ],
   "source": [
    "for fname in os.listdir(\"../classification/yinwen\"):\n",
    "    input_path = \"../classification/yinwen/\" + fname\n",
    "    if fname[-3:] == 'png' and fname in test['filename'].unique().tolist():\n",
    "        if float(test[test['filename']==fname]['pct_color']) > 0.4:    ### white_letter\n",
    "            end_path = \"../classification/yinwen/white_letter/\" + fname\n",
    "            shutil.move(input_path, end_path)\n",
    "        if float(test[test['filename']==fname]['pct_color']) < 0.4:    ### red_letter\n",
    "            end_path = \"../classification/yinwen/red_letter/\" + fname\n",
    "            shutil.move(input_path, end_path)\n",
    "print('finish')"
   ]
  },
  {
   "cell_type": "code",
   "execution_count": null,
   "id": "6257f120",
   "metadata": {},
   "outputs": [],
   "source": []
  },
  {
   "cell_type": "code",
   "execution_count": null,
   "id": "a1012b47",
   "metadata": {},
   "outputs": [],
   "source": []
  },
  {
   "cell_type": "code",
   "execution_count": null,
   "id": "0f19a266",
   "metadata": {},
   "outputs": [],
   "source": []
  },
  {
   "cell_type": "code",
   "execution_count": null,
   "id": "ef3b0927",
   "metadata": {},
   "outputs": [],
   "source": []
  },
  {
   "cell_type": "markdown",
   "id": "74ee7a0d",
   "metadata": {},
   "source": [
    "### Connected area\n",
    "https://scipy-lectures.org/packages/scikit-image/auto_examples/plot_labels.html"
   ]
  },
  {
   "cell_type": "code",
   "execution_count": null,
   "id": "6058c57f",
   "metadata": {},
   "outputs": [],
   "source": []
  },
  {
   "cell_type": "code",
   "execution_count": null,
   "id": "77be36dd",
   "metadata": {},
   "outputs": [],
   "source": []
  },
  {
   "cell_type": "code",
   "execution_count": null,
   "id": "415fdcfb",
   "metadata": {},
   "outputs": [],
   "source": []
  },
  {
   "cell_type": "code",
   "execution_count": null,
   "id": "d996fcc4",
   "metadata": {},
   "outputs": [],
   "source": []
  },
  {
   "cell_type": "code",
   "execution_count": null,
   "id": "50db3b8a",
   "metadata": {},
   "outputs": [],
   "source": []
  },
  {
   "cell_type": "code",
   "execution_count": null,
   "id": "48896ff8",
   "metadata": {},
   "outputs": [],
   "source": []
  },
  {
   "cell_type": "code",
   "execution_count": null,
   "id": "94b84808",
   "metadata": {},
   "outputs": [],
   "source": []
  },
  {
   "cell_type": "markdown",
   "id": "abe6794f",
   "metadata": {},
   "source": [
    "### Step by step"
   ]
  },
  {
   "cell_type": "code",
   "execution_count": null,
   "id": "0db6b53f",
   "metadata": {},
   "outputs": [],
   "source": [
    "# load the image\n",
    "image = skimage.io.imread(\"../png_crop/0010_八十岁应门者.png\")\n",
    "fig, ax = plt.subplots()\n",
    "plt.imshow(image)"
   ]
  },
  {
   "cell_type": "code",
   "execution_count": null,
   "id": "b76b750f",
   "metadata": {},
   "outputs": [],
   "source": [
    "# type(image), image.shape, image.shape[0]*image.shape[1], (image == [0]).sum()\n",
    "# image[300]\n",
    "# len(image[300])"
   ]
  },
  {
   "cell_type": "code",
   "execution_count": null,
   "id": "3247b80a",
   "metadata": {},
   "outputs": [],
   "source": [
    "newData = []\n",
    "for i in range(len(image)):\n",
    "    for j in range(len(image[i])):\n",
    "        if image[i][j][3] == 0:\n",
    "            newData.append(0)   ### transparent: 0\n",
    "        else:\n",
    "            newData.append(1)   ### color: 1\n",
    "sum(newData), len(newData), sum(newData)/len(newData)"
   ]
  },
  {
   "cell_type": "code",
   "execution_count": null,
   "id": "87662eb9",
   "metadata": {},
   "outputs": [],
   "source": [
    "binary = np.reshape(newData, (image.shape[0], image.shape[1]))\n",
    "plt.imshow(binary, cmap='gray')\n",
    "plt.show()"
   ]
  },
  {
   "cell_type": "code",
   "execution_count": null,
   "id": "672d0731",
   "metadata": {},
   "outputs": [],
   "source": []
  },
  {
   "cell_type": "code",
   "execution_count": null,
   "id": "e4f03637",
   "metadata": {},
   "outputs": [],
   "source": []
  },
  {
   "cell_type": "code",
   "execution_count": null,
   "id": "41b9f348",
   "metadata": {},
   "outputs": [],
   "source": []
  },
  {
   "cell_type": "code",
   "execution_count": null,
   "id": "ba6a17e7",
   "metadata": {},
   "outputs": [],
   "source": []
  },
  {
   "cell_type": "code",
   "execution_count": null,
   "id": "e2916810",
   "metadata": {},
   "outputs": [],
   "source": []
  },
  {
   "cell_type": "code",
   "execution_count": null,
   "id": "f51f0777",
   "metadata": {},
   "outputs": [],
   "source": []
  },
  {
   "cell_type": "code",
   "execution_count": null,
   "id": "d03831dc",
   "metadata": {},
   "outputs": [],
   "source": []
  },
  {
   "cell_type": "code",
   "execution_count": null,
   "id": "1870af0e",
   "metadata": {},
   "outputs": [],
   "source": []
  },
  {
   "cell_type": "code",
   "execution_count": null,
   "id": "1f24aacb",
   "metadata": {},
   "outputs": [],
   "source": []
  },
  {
   "cell_type": "code",
   "execution_count": null,
   "id": "e20ae39b",
   "metadata": {},
   "outputs": [],
   "source": []
  }
 ],
 "metadata": {
  "kernelspec": {
   "display_name": "ads",
   "language": "python",
   "name": "ads"
  },
  "language_info": {
   "codemirror_mode": {
    "name": "ipython",
    "version": 3
   },
   "file_extension": ".py",
   "mimetype": "text/x-python",
   "name": "python",
   "nbconvert_exporter": "python",
   "pygments_lexer": "ipython3",
   "version": "3.7.11"
  }
 },
 "nbformat": 4,
 "nbformat_minor": 5
}
