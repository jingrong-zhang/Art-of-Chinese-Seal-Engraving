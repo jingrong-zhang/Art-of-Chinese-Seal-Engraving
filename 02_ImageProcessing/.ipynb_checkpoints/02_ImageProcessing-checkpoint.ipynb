{
 "cells": [
  {
   "cell_type": "code",
   "execution_count": 1,
   "id": "1e23dd70",
   "metadata": {},
   "outputs": [],
   "source": [
    "import pandas as pd\n",
    "import numpy as np\n",
    "import glob\n",
    "import matplotlib\n",
    "import matplotlib.pyplot as plt\n",
    "import skimage.io\n",
    "import skimage.color\n",
    "import skimage.filters\n",
    "import skimage.measure\n",
    "from PIL import Image\n",
    "import os\n",
    "import json\n",
    "%matplotlib widget"
   ]
  },
  {
   "cell_type": "code",
   "execution_count": 2,
   "id": "3d570d74",
   "metadata": {},
   "outputs": [
    {
     "name": "stdout",
     "output_type": "stream",
     "text": [
      "Processed: 100\n",
      "Processed: 200\n",
      "Processed: 300\n",
      "Processed: 400\n",
      "Processed: 500\n",
      "Processed: 600\n",
      "Processed: 700\n",
      "Processed: 800\n",
      "Processed: 900\n",
      "Processed: 1000\n",
      "Processed: 1100\n",
      "Processed: 1200\n",
      "Processed: 1300\n",
      "Processed: 1400\n",
      "Processed: 1500\n",
      "Processed: 1600\n",
      "Processed: 1700\n",
      "Processed: 1800\n",
      "Processed: 1900\n",
      "Processed: 2000\n",
      "Processed: 2100\n",
      "Processed: 2200\n",
      "Processed: 2300\n",
      "Processed: 2400\n",
      "Processed: 2500\n",
      "Processed: 2600\n",
      "Processed: 2700\n",
      "Processed: 2800\n",
      "Processed: 2900\n",
      "Processed: 3000\n",
      "Processed: 3100\n",
      "Processed: 3200\n",
      "Processed: 3300\n",
      "Processed: 3400\n",
      "Processed: 3500\n",
      "Processed: 3600\n",
      "Processed: 3700\n",
      "Processed: 3800\n",
      "Processed: 3900\n",
      "Processed: 4000\n",
      "Processed: 4100\n",
      "Processed: 4200\n",
      "Processed: 4300\n",
      "Processed: 4400\n",
      "Processed: 4500\n",
      "Processed: 4600\n",
      "Processed: 4700\n",
      "Processed: 4800\n",
      "Processed: 4900\n",
      "Processed: 5000\n",
      "Processed: 5100\n",
      "Processed: 5200\n",
      "Processed: 5300\n",
      "Processed: 5400\n",
      "Processed: 5500\n",
      "Processed: 5600\n",
      "Processed: 5700\n",
      "Processed: 5800\n",
      "Processed: 5900\n",
      "Processed: 6000\n",
      "Processed: 6100\n",
      "Processed: 6200\n",
      "Processed: 6300\n",
      "Processed: 6400\n",
      "Processed: 6500\n",
      "Processed: 6600\n",
      "Processed: 6700\n",
      "Processed: 6800\n",
      "Processed: 6900\n",
      "Processed: 7000\n",
      "Processed: 7100\n",
      "Processed: 7200\n",
      "Processed: 7300\n",
      "Processed: 7400\n",
      "Processed: 7500\n",
      "Processed: 7600\n",
      "Processed: 7700\n",
      "Processed: 7800\n",
      "Processed: 7900\n",
      "Processed: 8000\n",
      "Processed: 8100\n",
      "Processed: 8200\n",
      "Processed: 8300\n",
      "Processed: 8400\n",
      "Processed: 8500\n",
      "Processed: 8600\n",
      "Processed: 8700\n",
      "Processed: 8800\n",
      "Processed: 8900\n",
      "Processed: 9000\n",
      "Processed: 9100\n",
      "Processed: 9200\n",
      "Processed: 9300\n",
      "Processed: 9400\n",
      "Processed: 9500\n",
      "Processed: 9600\n",
      "Processed: 9700\n",
      "Processed: 9800\n",
      "Processed: 9900\n",
      "Finish\n"
     ]
    }
   ],
   "source": [
    "binary_arr_list = []\n",
    "count = 0\n",
    "for filename in os.listdir(\"../png_crop\"):\n",
    "    number = filename[:4]\n",
    "    input_path = '../png_crop/' + filename\n",
    "    if filename[-3:] == 'png':\n",
    "        image = skimage.io.imread(input_path)\n",
    "        binary_list = []\n",
    "        for i in range(len(image)):\n",
    "            for j in range(len(image[i])):\n",
    "                if image[i][j][3] == 0:\n",
    "                    binary_list.append(0)   ### transparent: 0\n",
    "                else:\n",
    "                    binary_list.append(1)   ### color: 1\n",
    "        binary_arr = np.reshape(binary_list, (image.shape[0], image.shape[1]))\n",
    "        binary_arr_list.append([filename, binary_arr])\n",
    "        count += 1\n",
    "    if count % 100 == 0:\n",
    "        print('Processed:', count)\n",
    "print('Finish')"
   ]
  },
  {
   "cell_type": "code",
   "execution_count": 3,
   "id": "678f7651",
   "metadata": {},
   "outputs": [],
   "source": [
    "binary_arr_csv = pd.DataFrame(binary_arr_list, columns = ['filename', 'binary_arr'])\n",
    "binary_arr_csv.sort_values(by=['filename'], ascending=True, inplace=True)\n",
    "binary_arr_csv.reset_index(drop=True, inplace=True)\n",
    "# binary_arr_csv\n",
    "# binary_arr_csv.to_pickle('seal_binary_arr.pkl')"
   ]
  },
  {
   "cell_type": "code",
   "execution_count": null,
   "id": "1e07296a",
   "metadata": {},
   "outputs": [],
   "source": []
  },
  {
   "cell_type": "markdown",
   "id": "0b413358",
   "metadata": {},
   "source": [
    "### % of color area"
   ]
  },
  {
   "cell_type": "code",
   "execution_count": 4,
   "id": "f4af6437",
   "metadata": {},
   "outputs": [
    {
     "data": {
      "text/html": [
       "<div>\n",
       "<style scoped>\n",
       "    .dataframe tbody tr th:only-of-type {\n",
       "        vertical-align: middle;\n",
       "    }\n",
       "\n",
       "    .dataframe tbody tr th {\n",
       "        vertical-align: top;\n",
       "    }\n",
       "\n",
       "    .dataframe thead th {\n",
       "        text-align: right;\n",
       "    }\n",
       "</style>\n",
       "<table border=\"1\" class=\"dataframe\">\n",
       "  <thead>\n",
       "    <tr style=\"text-align: right;\">\n",
       "      <th></th>\n",
       "      <th>filename</th>\n",
       "      <th>binary_arr</th>\n",
       "    </tr>\n",
       "  </thead>\n",
       "  <tbody>\n",
       "    <tr>\n",
       "      <th>0</th>\n",
       "      <td>0000_蒋风白写生记.png</td>\n",
       "      <td>[[0, 0, 0, 0, 0, 0, 0, 0, 0, 0, 0, 0, 0, 0, 0,...</td>\n",
       "    </tr>\n",
       "    <tr>\n",
       "      <th>1</th>\n",
       "      <td>0001_韦之.png</td>\n",
       "      <td>[[1, 1, 0, 0, 0, 0, 0, 0, 0, 0, 0, 0, 0, 0, 0,...</td>\n",
       "    </tr>\n",
       "    <tr>\n",
       "      <th>2</th>\n",
       "      <td>0002_揆.png</td>\n",
       "      <td>[[0, 0, 0, 0, 0, 0, 0, 0, 0, 0, 0, 0, 0, 0, 0,...</td>\n",
       "    </tr>\n",
       "    <tr>\n",
       "      <th>3</th>\n",
       "      <td>0003_塞北绕春.png</td>\n",
       "      <td>[[0, 0, 0, 0, 0, 0, 0, 0, 0, 0, 0, 0, 0, 0, 0,...</td>\n",
       "    </tr>\n",
       "    <tr>\n",
       "      <th>4</th>\n",
       "      <td>0004_谭延闿印.png</td>\n",
       "      <td>[[0, 0, 0, 0, 0, 0, 0, 0, 0, 0, 0, 0, 0, 0, 0,...</td>\n",
       "    </tr>\n",
       "    <tr>\n",
       "      <th>...</th>\n",
       "      <td>...</td>\n",
       "      <td>...</td>\n",
       "    </tr>\n",
       "    <tr>\n",
       "      <th>9991</th>\n",
       "      <td>9995_抱石.png</td>\n",
       "      <td>[[0, 0, 0, 0, 0, 0, 0, 0, 0, 0, 0, 0, 0, 0, 0,...</td>\n",
       "    </tr>\n",
       "    <tr>\n",
       "      <th>9992</th>\n",
       "      <td>9996_秋水亭.png</td>\n",
       "      <td>[[0, 0, 0, 0, 0, 0, 0, 0, 0, 0, 0, 0, 0, 0, 0,...</td>\n",
       "    </tr>\n",
       "    <tr>\n",
       "      <th>9993</th>\n",
       "      <td>9997_徵明.png</td>\n",
       "      <td>[[0, 0, 0, 0, 0, 0, 0, 0, 0, 0, 0, 0, 0, 0, 0,...</td>\n",
       "    </tr>\n",
       "    <tr>\n",
       "      <th>9994</th>\n",
       "      <td>9998_项.png</td>\n",
       "      <td>[[0, 0, 0, 0, 0, 0, 0, 0, 0, 0, 0, 0, 0, 0, 0,...</td>\n",
       "    </tr>\n",
       "    <tr>\n",
       "      <th>9995</th>\n",
       "      <td>9999_返老还童.png</td>\n",
       "      <td>[[0, 0, 0, 0, 0, 0, 0, 0, 0, 0, 0, 0, 0, 0, 0,...</td>\n",
       "    </tr>\n",
       "  </tbody>\n",
       "</table>\n",
       "<p>9996 rows × 2 columns</p>\n",
       "</div>"
      ],
      "text/plain": [
       "             filename                                         binary_arr\n",
       "0     0000_蒋风白写生记.png  [[0, 0, 0, 0, 0, 0, 0, 0, 0, 0, 0, 0, 0, 0, 0,...\n",
       "1         0001_韦之.png  [[1, 1, 0, 0, 0, 0, 0, 0, 0, 0, 0, 0, 0, 0, 0,...\n",
       "2          0002_揆.png  [[0, 0, 0, 0, 0, 0, 0, 0, 0, 0, 0, 0, 0, 0, 0,...\n",
       "3       0003_塞北绕春.png  [[0, 0, 0, 0, 0, 0, 0, 0, 0, 0, 0, 0, 0, 0, 0,...\n",
       "4       0004_谭延闿印.png  [[0, 0, 0, 0, 0, 0, 0, 0, 0, 0, 0, 0, 0, 0, 0,...\n",
       "...               ...                                                ...\n",
       "9991      9995_抱石.png  [[0, 0, 0, 0, 0, 0, 0, 0, 0, 0, 0, 0, 0, 0, 0,...\n",
       "9992     9996_秋水亭.png  [[0, 0, 0, 0, 0, 0, 0, 0, 0, 0, 0, 0, 0, 0, 0,...\n",
       "9993      9997_徵明.png  [[0, 0, 0, 0, 0, 0, 0, 0, 0, 0, 0, 0, 0, 0, 0,...\n",
       "9994       9998_项.png  [[0, 0, 0, 0, 0, 0, 0, 0, 0, 0, 0, 0, 0, 0, 0,...\n",
       "9995    9999_返老还童.png  [[0, 0, 0, 0, 0, 0, 0, 0, 0, 0, 0, 0, 0, 0, 0,...\n",
       "\n",
       "[9996 rows x 2 columns]"
      ]
     },
     "execution_count": 4,
     "metadata": {},
     "output_type": "execute_result"
    }
   ],
   "source": [
    "test = pd.read_pickle('seal_binary_arr.pkl')\n",
    "test"
   ]
  },
  {
   "cell_type": "code",
   "execution_count": null,
   "id": "9ab69aab",
   "metadata": {},
   "outputs": [],
   "source": []
  },
  {
   "cell_type": "code",
   "execution_count": null,
   "id": "3f96b2f4",
   "metadata": {},
   "outputs": [],
   "source": []
  },
  {
   "cell_type": "code",
   "execution_count": null,
   "id": "eafc3f30",
   "metadata": {},
   "outputs": [],
   "source": []
  },
  {
   "cell_type": "code",
   "execution_count": null,
   "id": "85d1008f",
   "metadata": {},
   "outputs": [],
   "source": []
  },
  {
   "cell_type": "markdown",
   "id": "74ee7a0d",
   "metadata": {},
   "source": [
    "https://scipy-lectures.org/packages/scikit-image/auto_examples/plot_labels.html"
   ]
  },
  {
   "cell_type": "markdown",
   "id": "47413cfc",
   "metadata": {},
   "source": [
    "### Step by step"
   ]
  },
  {
   "cell_type": "code",
   "execution_count": null,
   "id": "0db6b53f",
   "metadata": {},
   "outputs": [],
   "source": [
    "# load the image\n",
    "image = skimage.io.imread(\"../png_crop/0010_八十岁应门者.png\")\n",
    "fig, ax = plt.subplots()\n",
    "plt.imshow(image)"
   ]
  },
  {
   "cell_type": "code",
   "execution_count": null,
   "id": "b76b750f",
   "metadata": {},
   "outputs": [],
   "source": [
    "# type(image), image.shape, image.shape[0]*image.shape[1], (image == [0]).sum()\n",
    "# image[300]\n",
    "# len(image[300])"
   ]
  },
  {
   "cell_type": "code",
   "execution_count": null,
   "id": "3247b80a",
   "metadata": {},
   "outputs": [],
   "source": [
    "newData = []\n",
    "for i in range(len(image)):\n",
    "    for j in range(len(image[i])):\n",
    "        if image[i][j][3] == 0:\n",
    "            newData.append(0)   ### transparent: 0\n",
    "        else:\n",
    "            newData.append(1)   ### color: 1\n",
    "sum(newData), len(newData), sum(newData)/len(newData)"
   ]
  },
  {
   "cell_type": "code",
   "execution_count": null,
   "id": "87662eb9",
   "metadata": {},
   "outputs": [],
   "source": [
    "binary = np.reshape(newData, (image.shape[0], image.shape[1]))\n",
    "plt.imshow(binary, cmap='gray')\n",
    "plt.show()"
   ]
  },
  {
   "cell_type": "code",
   "execution_count": null,
   "id": "672d0731",
   "metadata": {},
   "outputs": [],
   "source": []
  },
  {
   "cell_type": "code",
   "execution_count": null,
   "id": "e4f03637",
   "metadata": {},
   "outputs": [],
   "source": []
  },
  {
   "cell_type": "code",
   "execution_count": null,
   "id": "41b9f348",
   "metadata": {},
   "outputs": [],
   "source": []
  },
  {
   "cell_type": "code",
   "execution_count": null,
   "id": "ba6a17e7",
   "metadata": {},
   "outputs": [],
   "source": []
  },
  {
   "cell_type": "code",
   "execution_count": null,
   "id": "e2916810",
   "metadata": {},
   "outputs": [],
   "source": []
  },
  {
   "cell_type": "code",
   "execution_count": null,
   "id": "f51f0777",
   "metadata": {},
   "outputs": [],
   "source": []
  },
  {
   "cell_type": "code",
   "execution_count": null,
   "id": "d03831dc",
   "metadata": {},
   "outputs": [],
   "source": []
  },
  {
   "cell_type": "code",
   "execution_count": null,
   "id": "1870af0e",
   "metadata": {},
   "outputs": [],
   "source": []
  },
  {
   "cell_type": "code",
   "execution_count": null,
   "id": "1f24aacb",
   "metadata": {},
   "outputs": [],
   "source": []
  },
  {
   "cell_type": "code",
   "execution_count": null,
   "id": "e20ae39b",
   "metadata": {},
   "outputs": [],
   "source": []
  }
 ],
 "metadata": {
  "kernelspec": {
   "display_name": "ads",
   "language": "python",
   "name": "ads"
  },
  "language_info": {
   "codemirror_mode": {
    "name": "ipython",
    "version": 3
   },
   "file_extension": ".py",
   "mimetype": "text/x-python",
   "name": "python",
   "nbconvert_exporter": "python",
   "pygments_lexer": "ipython3",
   "version": "3.7.11"
  }
 },
 "nbformat": 4,
 "nbformat_minor": 5
}
