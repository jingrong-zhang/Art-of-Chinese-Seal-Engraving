{
 "cells": [
  {
   "cell_type": "code",
   "execution_count": 1,
   "id": "bd735715",
   "metadata": {},
   "outputs": [
    {
     "name": "stdout",
     "output_type": "stream",
     "text": [
      "(304, 279, 974, 2027)\n"
     ]
    }
   ],
   "source": [
    "import numpy as np\n",
    "from PIL import Image\n",
    "\n",
    "def bbox(im):\n",
    "    a = np.array(im)[:,:,:3]  # keep RGB only\n",
    "    m = np.any(a != [255, 255, 255], axis=2)\n",
    "    coords = np.argwhere(m)\n",
    "    y0, x0, y1, x1 = *np.min(coords, axis=0), *np.max(coords, axis=0)\n",
    "    return (x0, y0, x1+1, y1+1)\n",
    "\n",
    "im = Image.open('4129_半丁老人.png')\n",
    "im2 = im.crop(bbox(im))\n",
    "im2.save('test_cropped.png')"
   ]
  },
  {
   "cell_type": "code",
   "execution_count": null,
   "id": "93e0a88b",
   "metadata": {},
   "outputs": [],
   "source": []
  }
 ],
 "metadata": {
  "kernelspec": {
   "display_name": "ads",
   "language": "python",
   "name": "ads"
  },
  "language_info": {
   "codemirror_mode": {
    "name": "ipython",
    "version": 3
   },
   "file_extension": ".py",
   "mimetype": "text/x-python",
   "name": "python",
   "nbconvert_exporter": "python",
   "pygments_lexer": "ipython3",
   "version": "3.7.11"
  }
 },
 "nbformat": 4,
 "nbformat_minor": 5
}
