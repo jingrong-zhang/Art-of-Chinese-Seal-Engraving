{
 "cells": [
  {
   "cell_type": "code",
   "execution_count": 1,
   "id": "ae234713-4536-4cce-8151-cbb1673f20bb",
   "metadata": {},
   "outputs": [],
   "source": [
    "import numpy as np\n",
    "import glob\n",
    "import matplotlib\n",
    "import matplotlib.pyplot as plt\n",
    "import skimage.io\n",
    "import skimage.color\n",
    "import skimage.filters\n",
    "from PIL import Image\n",
    "import os\n",
    "%matplotlib widget"
   ]
  },
  {
   "cell_type": "markdown",
   "id": "9bc09650",
   "metadata": {},
   "source": [
    "## Image processing functions"
   ]
  },
  {
   "cell_type": "markdown",
   "id": "2301cbb5",
   "metadata": {},
   "source": [
    "### Step 1: Dark bg\n",
    "https://datacarpentry.org/image-processing/07-thresholding/"
   ]
  },
  {
   "cell_type": "code",
   "execution_count": 2,
   "id": "a5d718ed",
   "metadata": {},
   "outputs": [],
   "source": [
    "def mask_image_black(input_path, output_path):\n",
    "    # load the image\n",
    "    image = skimage.io.imread(input_path)\n",
    "    # convert the image to grayscale\n",
    "    gray_image = skimage.color.rgb2gray(image)\n",
    "    # blur the image to denoise\n",
    "    blurred_image = skimage.filters.gaussian(gray_image, sigma=1.0)\n",
    "    # create a mask based on the threshold\n",
    "    binary_mask = blurred_image < 0.7\n",
    "    # use the binary_mask to select the \"interesting\" part of the image\n",
    "    selection = image.copy()\n",
    "    selection[~binary_mask] = 0\n",
    "    matplotlib.image.imsave(output_path, selection)"
   ]
  },
  {
   "cell_type": "markdown",
   "id": "eb1c2278",
   "metadata": {},
   "source": [
    "### Step 2: Transparent bg\n",
    "https://www.geeksforgeeks.org/how-to-make-background-image-transparent-using-python/"
   ]
  },
  {
   "cell_type": "code",
   "execution_count": 3,
   "id": "836a6a51",
   "metadata": {},
   "outputs": [],
   "source": [
    "def convertImage(img_path):\n",
    "    img = Image.open(img_path)\n",
    "    img = img.convert(\"RGBA\")\n",
    "    datas = img.getdata()\n",
    "    newData = []\n",
    "    for item in datas:\n",
    "        if item[0] == 0 or item[1] == 0 or item[2] == 0:\n",
    "            newData.append((255, 255, 255, 0))\n",
    "        else:\n",
    "            newData.append(item)\n",
    "    img.putdata(newData)\n",
    "    img.save(img_path, \"PNG\")"
   ]
  },
  {
   "cell_type": "code",
   "execution_count": 15,
   "id": "5d04fae2",
   "metadata": {},
   "outputs": [
    {
     "name": "stdout",
     "output_type": "stream",
     "text": [
      "9187 pngs already there\n",
      "Processed: 9200\n",
      "Processed: 9300\n",
      "Processed: 9400\n",
      "Processed: 9500\n",
      "Processed: 9600\n",
      "Processed: 9700\n",
      "Processed: 9800\n",
      "Processed: 9900\n",
      "Finish\n"
     ]
    }
   ],
   "source": [
    "png_list = []\n",
    "for filename in os.listdir(\"../png\"):\n",
    "    png_list.append(filename[:4])\n",
    "print(len(png_list),\"pngs already there\")\n",
    "count = len(png_list)\n",
    "\n",
    "for filename in os.listdir(\"../img\"):\n",
    "    number = filename[:4]\n",
    "    if filename[-3:] == 'jpg' and (number in png_list) == False and number != '2724' and number != '5826' and number != '3582' and number != '6724':\n",
    "        fname = filename[:-4]\n",
    "        input_path = '../img/' + fname + '.jpg'\n",
    "        output_path = '../png/' + fname + '.png'\n",
    "        mask_image_black(input_path, output_path)\n",
    "        convertImage(output_path)\n",
    "        count += 1\n",
    "    if count % 100 == 0 and count > len(png_list):\n",
    "        print('Processed:', count)\n",
    "print('Finish')"
   ]
  },
  {
   "cell_type": "markdown",
   "id": "6bb663a9",
   "metadata": {},
   "source": [
    "### Step 3: Crop\n",
    "https://stackoverflow.com/questions/1905421/crop-a-png-image-to-its-minimum-size"
   ]
  },
  {
   "cell_type": "code",
   "execution_count": 16,
   "id": "1fd3a102",
   "metadata": {},
   "outputs": [],
   "source": [
    "def bbox(im):\n",
    "    a = np.array(im)[:,:,:3]\n",
    "    m = np.any(a != [255, 255, 255], axis=2)\n",
    "    coords = np.argwhere(m)\n",
    "    y0, x0, y1, x1 = *np.min(coords, axis=0), *np.max(coords, axis=0)\n",
    "    return (x0, y0, x1+1, y1+1)"
   ]
  },
  {
   "cell_type": "code",
   "execution_count": 85,
   "id": "987aa71a",
   "metadata": {},
   "outputs": [
    {
     "name": "stdout",
     "output_type": "stream",
     "text": [
      "9996 cropped pngs already there\n",
      "Finish\n"
     ]
    }
   ],
   "source": [
    "png_list = []\n",
    "for filename in os.listdir(\"../png_crop\"):\n",
    "    png_list.append(filename[:4])\n",
    "print(len(png_list),\"cropped pngs already there\")\n",
    "count = len(png_list)\n",
    "\n",
    "for filename in os.listdir(\"../png\"):\n",
    "    number = filename[:4]\n",
    "    if filename[-3:] == 'png' and (number in png_list) == False:\n",
    "        input_path = '../png/' + filename\n",
    "        output_path = '../png_crop/' + filename\n",
    "        try:\n",
    "            im = Image.open(input_path)\n",
    "            im2 = im.crop(bbox(im))\n",
    "            im2.save(output_path)\n",
    "        except ValueError:\n",
    "            print(filename)\n",
    "            pass\n",
    "        count += 1\n",
    "    if count % 500 == 0:\n",
    "        print('Processed:', count)\n",
    "print('Finish')"
   ]
  },
  {
   "cell_type": "markdown",
   "id": "de21b0d6",
   "metadata": {},
   "source": [
    "### Special case"
   ]
  },
  {
   "cell_type": "code",
   "execution_count": 43,
   "id": "ae5e7dce",
   "metadata": {},
   "outputs": [],
   "source": [
    "def mask_image_black(input_path, output_path):\n",
    "    image = skimage.io.imread(input_path)\n",
    "    gray_image = skimage.color.rgb2gray(image)\n",
    "    blurred_image = skimage.filters.gaussian(gray_image, sigma=1.0)\n",
    "    binary_mask = blurred_image < 0.85\n",
    "    selection = image.copy()\n",
    "    selection[~binary_mask] = 0\n",
    "    matplotlib.image.imsave(output_path, selection)\n",
    "    \n",
    "def convertImage(img_path):\n",
    "    img = Image.open(img_path)\n",
    "    img = img.convert(\"RGBA\")\n",
    "    datas = img.getdata()\n",
    "    newData = []\n",
    "    for item in datas:\n",
    "        if item[0] == 0 or item[1] == 0 or item[2] == 0:\n",
    "            newData.append((255, 255, 255, 0))\n",
    "        else:\n",
    "            newData.append(item)\n",
    "    img.putdata(newData)\n",
    "    img.save(img_path, \"PNG\")"
   ]
  },
  {
   "cell_type": "code",
   "execution_count": 46,
   "id": "a12d98a8",
   "metadata": {},
   "outputs": [],
   "source": [
    "mask_image_black('../img/9378_费.jpg', '../png/9378_费.png')\n",
    "convertImage('../png/9378_费.png')\n",
    "\n",
    "mask_image_black('../img/3558_费新我.jpg', '../png/3558_费新我.png')\n",
    "convertImage('../png/3558_费新我.png')\n",
    "\n",
    "mask_image_black('../img/3898_费新我.jpg', '../png/3898_费新我.png')\n",
    "convertImage('../png/3898_费新我.png')\n",
    "\n",
    "mask_image_black('../img/5077_费新我印.jpg', '../png/5077_费新我印.png')\n",
    "convertImage('../png/5077_费新我印.png')\n",
    "\n",
    "mask_image_black('../img/7911_吴兴费新我章.jpg', '../png/7911_吴兴费新我章.png')\n",
    "convertImage('../png/7911_吴兴费新我章.png')"
   ]
  },
  {
   "cell_type": "code",
   "execution_count": 82,
   "id": "a98f50b4",
   "metadata": {},
   "outputs": [],
   "source": [
    "def mask_image_black(input_path, output_path):\n",
    "    image = skimage.io.imread(input_path)\n",
    "    gray_image = skimage.color.rgb2gray(image)\n",
    "    blurred_image = skimage.filters.gaussian(gray_image, sigma=1.0)\n",
    "    binary_mask = blurred_image < 0.92\n",
    "    selection = image.copy()\n",
    "    selection[~binary_mask] = 0\n",
    "    matplotlib.image.imsave(output_path, selection)\n",
    "    \n",
    "def convertImage(img_path):\n",
    "    img = Image.open(img_path)\n",
    "    img = img.convert(\"RGBA\")\n",
    "    datas = img.getdata()\n",
    "    newData = []\n",
    "    for item in datas:\n",
    "        if item[0] == 0 or item[1] == 0 or item[2] == 0:\n",
    "            newData.append((255, 255, 255, 0))\n",
    "        else:\n",
    "            newData.append(item)\n",
    "    img.putdata(newData)\n",
    "    img.save(img_path, \"PNG\")"
   ]
  },
  {
   "cell_type": "code",
   "execution_count": 83,
   "id": "3b543871",
   "metadata": {},
   "outputs": [],
   "source": [
    "mask_image_black('../img/7477_渔所.jpg', '../png/7477_渔所.png')\n",
    "convertImage('../png/7477_渔所.png')\n",
    "\n",
    "mask_image_black('../img/7469_鸡碑2(\"碑\"编者误作\"垢\").jpg', '../png/7469_鸡碑2(\"碑\"编者误作\"垢\").png')\n",
    "convertImage('../png/7469_鸡碑2(\"碑\"编者误作\"垢\").png')\n",
    "\n",
    "mask_image_black('../img/1267_章侯.jpg', '../png/1267_章侯.png')\n",
    "convertImage('../png/1267_章侯.png')"
   ]
  },
  {
   "cell_type": "code",
   "execution_count": null,
   "id": "7ebd30fd",
   "metadata": {},
   "outputs": [],
   "source": []
  },
  {
   "cell_type": "markdown",
   "id": "5636f877",
   "metadata": {},
   "source": [
    "### Step by step"
   ]
  },
  {
   "cell_type": "markdown",
   "id": "d1653447",
   "metadata": {},
   "source": [
    "https://datacarpentry.org/image-processing/07-thresholding/"
   ]
  },
  {
   "cell_type": "code",
   "execution_count": null,
   "id": "09e180eb-99b7-4606-990e-6f2ae5e8f611",
   "metadata": {},
   "outputs": [],
   "source": [
    "# load the image\n",
    "image = skimage.io.imread(\"0505_学以养生.jpg\")\n",
    "image = skimage.io.imread(\"3971_斧成何长斧.jpg\")\n",
    "fig, ax = plt.subplots()\n",
    "plt.imshow(image)"
   ]
  },
  {
   "cell_type": "code",
   "execution_count": null,
   "id": "ef41659f-0788-4e0f-97bf-f26c71a2659f",
   "metadata": {},
   "outputs": [],
   "source": [
    "# convert the image to grayscale\n",
    "gray_image = skimage.color.rgb2gray(image)\n",
    "\n",
    "# blur the image to denoise\n",
    "blurred_image = skimage.filters.gaussian(gray_image, sigma=1.0)\n",
    "\n",
    "fig, ax = plt.subplots()\n",
    "plt.imshow(blurred_image, cmap=\"gray\")"
   ]
  },
  {
   "cell_type": "code",
   "execution_count": null,
   "id": "dc197058",
   "metadata": {},
   "outputs": [],
   "source": [
    "# create a histogram of the blurred grayscale image\n",
    "histogram, bin_edges = np.histogram(blurred_image, bins=256, range=(0.0, 1.0))\n",
    "\n",
    "fig, ax = plt.subplots()\n",
    "plt.plot(bin_edges[0:-1], histogram)\n",
    "plt.title(\"Grayscale Histogram\")\n",
    "plt.xlabel(\"grayscale value\")\n",
    "plt.ylabel(\"pixels\")\n",
    "plt.xlim(0, 1.0)"
   ]
  },
  {
   "cell_type": "code",
   "execution_count": null,
   "id": "2d029169-84f2-48c5-9273-3748da777b10",
   "metadata": {},
   "outputs": [],
   "source": [
    "# create a mask based on the threshold\n",
    "t = 0.8\n",
    "binary_mask = blurred_image < t\n",
    "\n",
    "fig, ax = plt.subplots()\n",
    "plt.imshow(binary_mask, cmap=\"gray\")"
   ]
  },
  {
   "cell_type": "code",
   "execution_count": null,
   "id": "b2412cb9-65ed-4f65-881b-0d8a4963b588",
   "metadata": {},
   "outputs": [],
   "source": [
    "# use the binary_mask to select the \"interesting\" part of the image\n",
    "selection = image.copy()\n",
    "selection[~binary_mask] = 0\n",
    "\n",
    "fig, ax = plt.subplots()\n",
    "plt.imshow(selection)"
   ]
  },
  {
   "cell_type": "code",
   "execution_count": null,
   "id": "36dad2d5-1e90-47e8-adf7-2576bc33f3b4",
   "metadata": {},
   "outputs": [],
   "source": [
    "# matplotlib.image.imsave('test.png', selection)"
   ]
  },
  {
   "cell_type": "code",
   "execution_count": null,
   "id": "650cf64a",
   "metadata": {},
   "outputs": [],
   "source": []
  }
 ],
 "metadata": {
  "kernelspec": {
   "display_name": "ads",
   "language": "python",
   "name": "ads"
  },
  "language_info": {
   "codemirror_mode": {
    "name": "ipython",
    "version": 3
   },
   "file_extension": ".py",
   "mimetype": "text/x-python",
   "name": "python",
   "nbconvert_exporter": "python",
   "pygments_lexer": "ipython3",
   "version": "3.7.11"
  }
 },
 "nbformat": 4,
 "nbformat_minor": 5
}
