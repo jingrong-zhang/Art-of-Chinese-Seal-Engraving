{
 "cells": [
  {
   "cell_type": "code",
   "execution_count": 1,
   "id": "ae234713-4536-4cce-8151-cbb1673f20bb",
   "metadata": {},
   "outputs": [
    {
     "name": "stdout",
     "output_type": "stream",
     "text": [
      "Successful\n"
     ]
    }
   ],
   "source": [
    "from PIL import Image\n",
    " \n",
    "def convertImage():\n",
    "    img = Image.open(\"./image.png\")\n",
    "    img = img.convert(\"RGBA\")\n",
    " \n",
    "    datas = img.getdata()\n",
    " \n",
    "    newData = []\n",
    " \n",
    "    for item in datas:\n",
    "        if item[0] == 255 and item[1] == 255 and item[2] == 255:\n",
    "            newData.append((255, 255, 255, 0))\n",
    "        else:\n",
    "            newData.append(item)\n",
    " \n",
    "    img.putdata(newData)\n",
    "    img.save(\"./New.png\", \"PNG\")\n",
    "    print(\"Successful\")\n",
    " \n",
    "convertImage()"
   ]
  },
  {
   "cell_type": "code",
   "execution_count": null,
   "id": "b2412cb9-65ed-4f65-881b-0d8a4963b588",
   "metadata": {},
   "outputs": [],
   "source": [
    "import numpy as np\n",
    "import cv2\n",
    "\n",
    "image = cv2.imread('image.png')\n",
    "result = image.copy()\n",
    "image = cv2.cvtColor(image, cv2.COLOR_BGR2HSV)\n",
    "lower = np.array([21,0,0])\n",
    "upper = np.array([179, 255, 209])\n",
    "mask = cv2.inRange(image, lower, upper)\n",
    "\n",
    "kernel = cv2.getStructuringElement(cv2.MORPH_ELLIPSE, (2,2))\n",
    "close = cv2.morphologyEx(mask, cv2.MORPH_CLOSE, kernel, iterations=1)\n",
    "\n",
    "result[close==0] = (255,255,255)\n",
    "\n",
    "cv2.imshow('cleaned', result)\n",
    "\n",
    "retouch_mask = (result <= [250.,250.,250.]).all(axis=2)\n",
    "result[retouch_mask] = [0,0,0]\n",
    "\n",
    "cv2.imshow('mask', mask)\n",
    "cv2.imshow('close', close)\n",
    "cv2.imshow('result', result)\n",
    "cv2.waitKey()"
   ]
  },
  {
   "cell_type": "code",
   "execution_count": null,
   "id": "4d3e0652-bff0-4ebf-8f1c-d8c84138663e",
   "metadata": {},
   "outputs": [],
   "source": []
  },
  {
   "cell_type": "code",
   "execution_count": null,
   "id": "fbe0a966-056c-4ab5-8787-d55cfa28b524",
   "metadata": {},
   "outputs": [],
   "source": [
    "import cv2\n",
    "import numpy as np\n",
    "\n",
    "# load image\n",
    "img = cv2.imread('image.png')\n",
    "\n",
    "# convert to graky\n",
    "gray = cv2.cvtColor(img, cv2.COLOR_BGR2GRAY)\n",
    "\n",
    "# threshold input image as mask\n",
    "mask = cv2.threshold(gray, 250, 255, cv2.THRESH_BINARY)[1]\n",
    "\n",
    "# negate mask\n",
    "mask = 255 - mask\n",
    "\n",
    "# apply morphology to remove isolated extraneous noise\n",
    "# use borderconstant of black since foreground touches the edges\n",
    "kernel = np.ones((3,3), np.uint8)\n",
    "mask = cv2.morphologyEx(mask, cv2.MORPH_OPEN, kernel)\n",
    "mask = cv2.morphologyEx(mask, cv2.MORPH_CLOSE, kernel)\n",
    "\n",
    "# anti-alias the mask -- blur then stretch\n",
    "# blur alpha channel\n",
    "mask = cv2.GaussianBlur(mask, (0,0), sigmaX=2, sigmaY=2, borderType = cv2.BORDER_DEFAULT)\n",
    "\n",
    "# linear stretch so that 127.5 goes to 0, but 255 stays 255\n",
    "mask = (2*(mask.astype(np.float32))-255.0).clip(0,255).astype(np.uint8)\n",
    "\n",
    "# put mask into alpha channel\n",
    "result = img.copy()\n",
    "result = cv2.cvtColor(result, cv2.COLOR_BGR2BGRA)\n",
    "result[:, :, 3] = mask\n",
    "\n",
    "# save resulting masked image\n",
    "cv2.imwrite('person_transp_bckgrnd.png', result)\n",
    "\n",
    "# display result, though it won't show transparency\n",
    "cv2.imshow(\"INPUT\", img)\n",
    "cv2.imshow(\"GRAY\", gray)\n",
    "cv2.imshow(\"MASK\", mask)\n",
    "cv2.imshow(\"RESULT\", result)\n",
    "cv2.waitKey(0)\n",
    "cv2.destroyAllWindows()"
   ]
  },
  {
   "cell_type": "code",
   "execution_count": null,
   "id": "36dad2d5-1e90-47e8-adf7-2576bc33f3b4",
   "metadata": {},
   "outputs": [],
   "source": []
  },
  {
   "cell_type": "code",
   "execution_count": null,
   "id": "cf2fc591-0ac6-449b-8179-7f8c01419a1c",
   "metadata": {},
   "outputs": [],
   "source": []
  },
  {
   "cell_type": "code",
   "execution_count": null,
   "id": "e121fc5c-f5e1-468d-b621-535f5ee1afc5",
   "metadata": {},
   "outputs": [],
   "source": []
  },
  {
   "cell_type": "code",
   "execution_count": null,
   "id": "551b781d-022a-44fd-a110-0a9f847e769a",
   "metadata": {},
   "outputs": [],
   "source": []
  }
 ],
 "metadata": {
  "kernelspec": {
   "display_name": "ads",
   "language": "python",
   "name": "ads"
  },
  "language_info": {
   "codemirror_mode": {
    "name": "ipython",
    "version": 3
   },
   "file_extension": ".py",
   "mimetype": "text/x-python",
   "name": "python",
   "nbconvert_exporter": "python",
   "pygments_lexer": "ipython3",
   "version": "3.7.11"
  }
 },
 "nbformat": 4,
 "nbformat_minor": 5
}
