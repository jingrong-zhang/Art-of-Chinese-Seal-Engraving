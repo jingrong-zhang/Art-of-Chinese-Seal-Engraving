{
 "cells": [
  {
   "cell_type": "markdown",
   "metadata": {
    "tags": []
   },
   "source": [
    "## Chinese seals\n",
    "\n",
    "Data Collection & Format"
   ]
  },
  {
   "cell_type": "code",
   "execution_count": 1,
   "metadata": {},
   "outputs": [],
   "source": [
    "import pandas as pd\n",
    "import glob #Unix style pathname pattern expansion\n",
    "import numpy as np\n",
    "from dateutil import parser #powerful extensions to datetime; offers a generic date/time string parser\n",
    "import time\n",
    "from tqdm import tqdm #Customisable progressbar for iterators\n",
    "import urllib.request\n",
    "try: #spelling depends on enviroment version \n",
    "    import urllib2 as urllib #URL handling module\n",
    "except ImportError:\n",
    "    import urllib.request as urllib\n",
    "import json\n",
    "import sys\n",
    "from IPython.display import clear_output #Clears the output of the current cell receiving output\n",
    "import requests #the module for making HTTP requests in Python; provides GET funcionality"
   ]
  },
  {
   "cell_type": "markdown",
   "metadata": {
    "tags": []
   },
   "source": [
    "### 1. Save as .json"
   ]
  },
  {
   "cell_type": "code",
   "execution_count": 22,
   "metadata": {},
   "outputs": [],
   "source": [
    "for i in range(1,102):\n",
    "    apiKey = 'a879f07cec0311a7c25068cc3db7ad4c5617bfba'\n",
    "    pageth = i\n",
    "    pageSize = 200\n",
    "    url = str('https://data1.library.sh.cn/gj/webapi/seals?Pageth={}&pageSize={}&key={}'.format(pageth,pageSize,apiKey))\n",
    "    \n",
    "    data = urllib.urlopen(url).read().decode('utf-8')\n",
    "    data = json.loads(data)\n",
    "\n",
    "    ### output\n",
    "    fname = str(i).zfill(3)\n",
    "    save_dir = str('data/{}.json'.format(fname))\n",
    "    with open(save_dir, 'w') as f:\n",
    "        json.dump(data, f)\n",
    "    f.close()"
   ]
  },
  {
   "cell_type": "markdown",
   "metadata": {},
   "source": [
    "#### Check the data"
   ]
  },
  {
   "cell_type": "code",
   "execution_count": 8,
   "metadata": {},
   "outputs": [
    {
     "data": {
      "text/plain": [
       "{'owner': [{'name': '顾麟士',\n",
       "   'uri': 'http://data.library.sh.cn/entity/person/a7u6cntpva99pl14'}],\n",
       " 'ownerOfSeal': ['顾麟士'],\n",
       " 'img': [{'imgUri': '//img.library.sh.cn/gj/seal/zbr04t4vpe01pbj6.jpg',\n",
       "   'source': '于连成编《近百年书画名人印鉴》（荣宝斋出版社，2001.7）',\n",
       "   'imgAbout': 'http://data.library.sh.cn/gj/entity/seal/1i0tcjx4qzca00jv'}],\n",
       " 'sealCharactersCht': '麟士2',\n",
       " 'label': ['麟士2@chs', '麟士2@cht'],\n",
       " 'sealCharactersChs': '麟士2',\n",
       " 'sealCharacters': ['麟士2@chs', '麟士2@cht'],\n",
       " 'labelCht': '麟士2',\n",
       " 'uri': 'http://data.library.sh.cn/gj/entity/seal/1i0tcjx4qzca00jv',\n",
       " 'labelChs': '麟士2'}"
      ]
     },
     "execution_count": 8,
     "metadata": {},
     "output_type": "execute_result"
    }
   ],
   "source": [
    "f = open('data/002.json')\n",
    "seal = json.load(f)\n",
    "seal['data'][50]"
   ]
  },
  {
   "cell_type": "markdown",
   "metadata": {},
   "source": [
    "### 2. One json"
   ]
  },
  {
   "cell_type": "code",
   "execution_count": 57,
   "metadata": {},
   "outputs": [],
   "source": [
    "data_list = []\n",
    "for i in range(1,101):\n",
    "    fname = str(i).zfill(3)\n",
    "    save_dir = str('data/{}.json'.format(fname))\n",
    "    f = open(save_dir)\n",
    "    seal = json.load(f)\n",
    "    data_list.extend(seal['data'])\n",
    "with open('seal_all.json', 'w') as f:\n",
    "    json.dump(data_list, f)\n",
    "f.close()"
   ]
  },
  {
   "cell_type": "markdown",
   "metadata": {},
   "source": [
    "#### Check unique"
   ]
  },
  {
   "cell_type": "code",
   "execution_count": 63,
   "metadata": {},
   "outputs": [
    {
     "data": {
      "text/plain": [
       "{'owner': [{'name': '蒋风白',\n",
       "   'uri': 'http://data.library.sh.cn/entity/person/fy7fumea5pfzqzyl'}],\n",
       " 'ownerOfSeal': ['蒋风白'],\n",
       " 'img': [{'imgUri': '//img.library.sh.cn/gj/seal/zzxfmzfhtrk3ixft.jpg',\n",
       "   'source': '蒋风白绘《中国近现代名家画集蒋风白》（人民美术出版社，2010.8）',\n",
       "   'imgAbout': 'http://data.library.sh.cn/gj/entity/seal/f3cy3luycnjw7pfs'}],\n",
       " 'sealCharactersCht': '蔣風白寫生記',\n",
       " 'label': ['蒋风白写生记@chs', '蔣風白寫生記@cht'],\n",
       " 'sealCharactersChs': '蒋风白写生记',\n",
       " 'sealCharacters': ['蒋风白写生记@chs', '蔣風白寫生記@cht'],\n",
       " 'labelCht': '蔣風白寫生記',\n",
       " 'uri': 'http://data.library.sh.cn/gj/entity/seal/f3cy3luycnjw7pfs',\n",
       " 'labelChs': '蒋风白写生记'}"
      ]
     },
     "execution_count": 63,
     "metadata": {},
     "output_type": "execute_result"
    }
   ],
   "source": [
    "f = open('seal_all.json')\n",
    "seal_all = json.load(f)\n",
    "seal_all[0]"
   ]
  },
  {
   "cell_type": "code",
   "execution_count": 88,
   "metadata": {},
   "outputs": [
    {
     "name": "stdout",
     "output_type": "stream",
     "text": [
      "Seal names: 10000\n",
      "Repeated: 295\n"
     ]
    }
   ],
   "source": [
    "a_key = \"sealCharactersChs\"\n",
    "list_of_values = [a_dict[a_key] for a_dict in seal_all]\n",
    "print('Seal names:', len(list_of_values))\n",
    "# my_dict = {i:list_of_values.count(i) for i in list_of_values}\n",
    "import collections\n",
    "repeat = [item for item, count in collections.Counter(list_of_values).items() if count > 1]\n",
    "print('Repeated:', len(repeat))"
   ]
  },
  {
   "cell_type": "markdown",
   "metadata": {},
   "source": [
    "### 3. Download imgs"
   ]
  },
  {
   "cell_type": "code",
   "execution_count": 116,
   "metadata": {},
   "outputs": [
    {
     "name": "stdout",
     "output_type": "stream",
     "text": [
      "Processed 7300 rows,\n",
      "Processed 7400 rows,\n",
      "Processed 7500 rows,\n",
      "Processed 7600 rows,\n",
      "Processed 7700 rows,\n",
      "Processed 7800 rows,\n",
      "Processed 7900 rows,\n",
      "Processed 8000 rows,\n",
      "Processed 8100 rows,\n",
      "Processed 8200 rows,\n",
      "Processed 8300 rows,\n",
      "Processed 8400 rows,\n",
      "Processed 8500 rows,\n",
      "Processed 8600 rows,\n",
      "Processed 8700 rows,\n",
      "Processed 8800 rows,\n",
      "Processed 8900 rows,\n",
      "Processed 9000 rows,\n",
      "Processed 9100 rows,\n",
      "Processed 9200 rows,\n",
      "Processed 9300 rows,\n",
      "Processed 9400 rows,\n",
      "Processed 9500 rows,\n",
      "Processed 9600 rows,\n",
      "Processed 9700 rows,\n",
      "Processed 9800 rows,\n",
      "Processed 9900 rows,\n",
      "Processed 10000 rows,\n"
     ]
    }
   ],
   "source": [
    "count = 0\n",
    "for l in seal_all:\n",
    "    sealCharactersChs = l['sealCharactersChs']\n",
    "    img_uri = 'http:' + l['img'][0]['imgUri']\n",
    "    img_fname = str(count).zfill(4) + '_' + str(sealCharactersChs) + '.jpg'\n",
    "    save_dir = 'img/' + img_fname\n",
    "    if count > 9615: \n",
    "        urllib.urlretrieve(img_uri, save_dir) \n",
    "    count += 1\n",
    "    if count % 100 == 0 and count > 7220:\n",
    "        print('Processed %d rows,' % count)"
   ]
  },
  {
   "cell_type": "code",
   "execution_count": null,
   "metadata": {},
   "outputs": [],
   "source": []
  },
  {
   "cell_type": "code",
   "execution_count": null,
   "metadata": {
    "deletable": false,
    "nbgrader": {
     "cell_type": "code",
     "checksum": "4d0d75abc13ab8deefd24ac7fe9a7b32",
     "grade": true,
     "grade_id": "cell-f778cee509e3a316",
     "locked": false,
     "points": 1,
     "schema_version": 3,
     "solution": true,
     "task": false
    }
   },
   "outputs": [],
   "source": []
  }
 ],
 "metadata": {
  "kernelspec": {
   "display_name": "ads",
   "language": "python",
   "name": "ads"
  },
  "language_info": {
   "codemirror_mode": {
    "name": "ipython",
    "version": 3
   },
   "file_extension": ".py",
   "mimetype": "text/x-python",
   "name": "python",
   "nbconvert_exporter": "python",
   "pygments_lexer": "ipython3",
   "version": "3.7.11"
  }
 },
 "nbformat": 4,
 "nbformat_minor": 4
}
